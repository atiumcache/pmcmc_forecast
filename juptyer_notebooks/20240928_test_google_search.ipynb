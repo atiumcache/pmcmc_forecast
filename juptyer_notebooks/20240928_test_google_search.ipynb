{
 "cells": [
  {
   "cell_type": "code",
   "id": "initial_id",
   "metadata": {
    "collapsed": true,
    "ExecuteTime": {
     "end_time": "2024-09-28T16:01:31.240172Z",
     "start_time": "2024-09-28T16:01:31.230285Z"
    }
   },
   "source": [
    "from pytrends.request import TrendReq\n",
    "import pandas as pd\n",
    "\n",
    "\n",
    "def get_google_trend_data(search_term, loc_code, start_date, end_date):\n",
    "    pytrends = TrendReq(hl=\"en-US\", tz=360)\n",
    "\n",
    "    kw_list = [search_term]\n",
    "    pytrends.build_payload(\n",
    "        kw_list,\n",
    "        cat=0,\n",
    "        timeframe=f\"{start_date} {end_date}\",\n",
    "        geo=f\"US-{loc_code}\",\n",
    "        gprop=\"\",\n",
    "    )\n",
    "\n",
    "    data = pytrends.interest_over_time()\n",
    "\n",
    "    if not data.empty:\n",
    "        data = data.drop(columns=[\"isPartial\"])\n",
    "        return data\n",
    "    else:\n",
    "        raise ValueError(\n",
    "            f\"Google Trends data failed for {loc_code} from {start_date} to {end_date}.\"\n",
    "        )"
   ],
   "outputs": [],
   "execution_count": 14
  },
  {
   "metadata": {
    "ExecuteTime": {
     "end_time": "2024-09-28T15:57:32.600337Z",
     "start_time": "2024-09-28T15:57:31.532093Z"
    }
   },
   "cell_type": "code",
   "source": [
    "trends_data = get_google_trend_data(\"flu symptoms\", \"AZ\", \"2023-08-07\", \"2023-10-25\")"
   ],
   "id": "1725f56a1987d7a1",
   "outputs": [],
   "execution_count": 12
  },
  {
   "metadata": {
    "ExecuteTime": {
     "end_time": "2024-09-28T15:57:33.235805Z",
     "start_time": "2024-09-28T15:57:33.221745Z"
    }
   },
   "cell_type": "code",
   "source": "trends_data",
   "id": "c99790c6113a606d",
   "outputs": [
    {
     "data": {
      "text/plain": [
       "            flu symptoms\n",
       "date                    \n",
       "2023-08-07             0\n",
       "2023-08-08             0\n",
       "2023-08-09             0\n",
       "2023-08-10             0\n",
       "2023-08-11             0\n",
       "...                  ...\n",
       "2023-10-21             0\n",
       "2023-10-22            70\n",
       "2023-10-23             0\n",
       "2023-10-24            54\n",
       "2023-10-25             0\n",
       "\n",
       "[80 rows x 1 columns]"
      ],
      "text/html": [
       "<div>\n",
       "<style scoped>\n",
       "    .dataframe tbody tr th:only-of-type {\n",
       "        vertical-align: middle;\n",
       "    }\n",
       "\n",
       "    .dataframe tbody tr th {\n",
       "        vertical-align: top;\n",
       "    }\n",
       "\n",
       "    .dataframe thead th {\n",
       "        text-align: right;\n",
       "    }\n",
       "</style>\n",
       "<table border=\"1\" class=\"dataframe\">\n",
       "  <thead>\n",
       "    <tr style=\"text-align: right;\">\n",
       "      <th></th>\n",
       "      <th>flu symptoms</th>\n",
       "    </tr>\n",
       "    <tr>\n",
       "      <th>date</th>\n",
       "      <th></th>\n",
       "    </tr>\n",
       "  </thead>\n",
       "  <tbody>\n",
       "    <tr>\n",
       "      <th>2023-08-07</th>\n",
       "      <td>0</td>\n",
       "    </tr>\n",
       "    <tr>\n",
       "      <th>2023-08-08</th>\n",
       "      <td>0</td>\n",
       "    </tr>\n",
       "    <tr>\n",
       "      <th>2023-08-09</th>\n",
       "      <td>0</td>\n",
       "    </tr>\n",
       "    <tr>\n",
       "      <th>2023-08-10</th>\n",
       "      <td>0</td>\n",
       "    </tr>\n",
       "    <tr>\n",
       "      <th>2023-08-11</th>\n",
       "      <td>0</td>\n",
       "    </tr>\n",
       "    <tr>\n",
       "      <th>...</th>\n",
       "      <td>...</td>\n",
       "    </tr>\n",
       "    <tr>\n",
       "      <th>2023-10-21</th>\n",
       "      <td>0</td>\n",
       "    </tr>\n",
       "    <tr>\n",
       "      <th>2023-10-22</th>\n",
       "      <td>70</td>\n",
       "    </tr>\n",
       "    <tr>\n",
       "      <th>2023-10-23</th>\n",
       "      <td>0</td>\n",
       "    </tr>\n",
       "    <tr>\n",
       "      <th>2023-10-24</th>\n",
       "      <td>54</td>\n",
       "    </tr>\n",
       "    <tr>\n",
       "      <th>2023-10-25</th>\n",
       "      <td>0</td>\n",
       "    </tr>\n",
       "  </tbody>\n",
       "</table>\n",
       "<p>80 rows × 1 columns</p>\n",
       "</div>"
      ]
     },
     "execution_count": 13,
     "metadata": {},
     "output_type": "execute_result"
    }
   ],
   "execution_count": 13
  },
  {
   "metadata": {
    "ExecuteTime": {
     "end_time": "2024-09-28T16:23:35.884799Z",
     "start_time": "2024-09-28T16:23:35.861356Z"
    }
   },
   "cell_type": "code",
   "source": [
    "# Testing helper function\n",
    "\n",
    "from os import path\n",
    "from src import paths\n",
    "\n",
    "locations_csv_path = path.join(paths.DATASETS_DIR, \"locations.csv\")\n",
    "locations_df = pd.read_csv(locations_csv_path)\n",
    "loc_abbrev = locations_df.loc[locations_df[\"location\"] == \"04\", \"abbreviation\"].values[\n",
    "    0\n",
    "]\n",
    "loc_abbrev"
   ],
   "id": "2112ed67f21f1e0c",
   "outputs": [
    {
     "data": {
      "text/plain": [
       "'AZ'"
      ]
     },
     "execution_count": 17,
     "metadata": {},
     "output_type": "execute_result"
    }
   ],
   "execution_count": 17
  },
  {
   "metadata": {
    "ExecuteTime": {
     "end_time": "2024-09-28T16:42:51.239307Z",
     "start_time": "2024-09-28T16:42:50.716277Z"
    }
   },
   "cell_type": "code",
   "source": [
    "# Testing another helper function\n",
    "\n",
    "from src.trend_forecast.covariate_getters import get_start_end_dates\n",
    "\n",
    "get_start_end_dates('2023-10-28', series_length=80, lag=3)"
   ],
   "id": "a6a1641753a78c52",
   "outputs": [
    {
     "data": {
      "text/plain": [
       "('2023-08-07', '2023-10-25')"
      ]
     },
     "execution_count": 1,
     "metadata": {},
     "output_type": "execute_result"
    }
   ],
   "execution_count": 1
  },
  {
   "metadata": {
    "ExecuteTime": {
     "end_time": "2024-09-28T16:43:50.013237Z",
     "start_time": "2024-09-28T16:43:48.503614Z"
    }
   },
   "cell_type": "code",
   "source": [
    "from src.trend_forecast.covariate_getters import get_google_search\n",
    "get_google_search('04', 'flu symptoms', target_date='2023-10-28', series_length=10)"
   ],
   "id": "c4c52bf52f707ea3",
   "outputs": [
    {
     "data": {
      "text/plain": [
       "            flu symptoms\n",
       "date                    \n",
       "2023-10-16             0\n",
       "2023-10-17             0\n",
       "2023-10-18             0\n",
       "2023-10-19             0\n",
       "2023-10-20             0\n",
       "2023-10-21             0\n",
       "2023-10-22           100\n",
       "2023-10-23             0\n",
       "2023-10-24            78\n",
       "2023-10-25             0"
      ],
      "text/html": [
       "<div>\n",
       "<style scoped>\n",
       "    .dataframe tbody tr th:only-of-type {\n",
       "        vertical-align: middle;\n",
       "    }\n",
       "\n",
       "    .dataframe tbody tr th {\n",
       "        vertical-align: top;\n",
       "    }\n",
       "\n",
       "    .dataframe thead th {\n",
       "        text-align: right;\n",
       "    }\n",
       "</style>\n",
       "<table border=\"1\" class=\"dataframe\">\n",
       "  <thead>\n",
       "    <tr style=\"text-align: right;\">\n",
       "      <th></th>\n",
       "      <th>flu symptoms</th>\n",
       "    </tr>\n",
       "    <tr>\n",
       "      <th>date</th>\n",
       "      <th></th>\n",
       "    </tr>\n",
       "  </thead>\n",
       "  <tbody>\n",
       "    <tr>\n",
       "      <th>2023-10-16</th>\n",
       "      <td>0</td>\n",
       "    </tr>\n",
       "    <tr>\n",
       "      <th>2023-10-17</th>\n",
       "      <td>0</td>\n",
       "    </tr>\n",
       "    <tr>\n",
       "      <th>2023-10-18</th>\n",
       "      <td>0</td>\n",
       "    </tr>\n",
       "    <tr>\n",
       "      <th>2023-10-19</th>\n",
       "      <td>0</td>\n",
       "    </tr>\n",
       "    <tr>\n",
       "      <th>2023-10-20</th>\n",
       "      <td>0</td>\n",
       "    </tr>\n",
       "    <tr>\n",
       "      <th>2023-10-21</th>\n",
       "      <td>0</td>\n",
       "    </tr>\n",
       "    <tr>\n",
       "      <th>2023-10-22</th>\n",
       "      <td>100</td>\n",
       "    </tr>\n",
       "    <tr>\n",
       "      <th>2023-10-23</th>\n",
       "      <td>0</td>\n",
       "    </tr>\n",
       "    <tr>\n",
       "      <th>2023-10-24</th>\n",
       "      <td>78</td>\n",
       "    </tr>\n",
       "    <tr>\n",
       "      <th>2023-10-25</th>\n",
       "      <td>0</td>\n",
       "    </tr>\n",
       "  </tbody>\n",
       "</table>\n",
       "</div>"
      ]
     },
     "execution_count": 1,
     "metadata": {},
     "output_type": "execute_result"
    }
   ],
   "execution_count": 1
  },
  {
   "metadata": {
    "ExecuteTime": {
     "end_time": "2024-09-28T16:48:07.104137Z",
     "start_time": "2024-09-28T16:47:42.464488Z"
    }
   },
   "cell_type": "code",
   "source": [
    "from asyncio import sleep\n",
    "# Add Google Search column to existing covariates for testing\n",
    "\n",
    "import os\n",
    "from src.trend_forecast.covariate_getters import get_radiation, get_google_search\n",
    "import glob\n",
    "import pandas as pd\n",
    "\n",
    "for file in glob.glob(\"../output/covariates/04/*.csv\"):\n",
    "    df = pd.read_csv(file)\n",
    "    filename = os.path.basename(file)\n",
    "    date = filename.replace(\".csv\", \"\")\n",
    "    print(date)\n",
    "    df['google_search'] = get_google_search(loc_code=\"04\", \n",
    "                                              search_term='flu symptoms',\n",
    "                                              target_date=date, \n",
    "                                              series_length=50).to_numpy()\n",
    "    df.to_csv(file, index=False)"
   ],
   "id": "e3a93d5f27916e34",
   "outputs": [
    {
     "name": "stderr",
     "output_type": "stream",
     "text": [
      "/tmp/ipykernel_242678/3637127067.py:10: RuntimeWarning: coroutine 'sleep' was never awaited\n",
      "  sleep(5)\n",
      "RuntimeWarning: Enable tracemalloc to get the object allocation traceback\n"
     ]
    },
    {
     "name": "stdout",
     "output_type": "stream",
     "text": [
      "2023-10-14\n"
     ]
    },
    {
     "name": "stderr",
     "output_type": "stream",
     "text": [
      "/tmp/ipykernel_242678/3637127067.py:10: RuntimeWarning: coroutine 'sleep' was never awaited\n",
      "  sleep(5)\n",
      "RuntimeWarning: Enable tracemalloc to get the object allocation traceback\n"
     ]
    },
    {
     "name": "stdout",
     "output_type": "stream",
     "text": [
      "2023-10-21\n"
     ]
    },
    {
     "name": "stderr",
     "output_type": "stream",
     "text": [
      "/tmp/ipykernel_242678/3637127067.py:10: RuntimeWarning: coroutine 'sleep' was never awaited\n",
      "  sleep(5)\n",
      "RuntimeWarning: Enable tracemalloc to get the object allocation traceback\n"
     ]
    },
    {
     "name": "stdout",
     "output_type": "stream",
     "text": [
      "2023-10-28\n"
     ]
    },
    {
     "name": "stderr",
     "output_type": "stream",
     "text": [
      "/tmp/ipykernel_242678/3637127067.py:10: RuntimeWarning: coroutine 'sleep' was never awaited\n",
      "  sleep(5)\n",
      "RuntimeWarning: Enable tracemalloc to get the object allocation traceback\n"
     ]
    },
    {
     "name": "stdout",
     "output_type": "stream",
     "text": [
      "2023-11-04\n"
     ]
    },
    {
     "name": "stderr",
     "output_type": "stream",
     "text": [
      "/tmp/ipykernel_242678/3637127067.py:10: RuntimeWarning: coroutine 'sleep' was never awaited\n",
      "  sleep(5)\n",
      "RuntimeWarning: Enable tracemalloc to get the object allocation traceback\n"
     ]
    },
    {
     "name": "stdout",
     "output_type": "stream",
     "text": [
      "2023-11-11\n"
     ]
    },
    {
     "name": "stderr",
     "output_type": "stream",
     "text": [
      "/tmp/ipykernel_242678/3637127067.py:10: RuntimeWarning: coroutine 'sleep' was never awaited\n",
      "  sleep(5)\n",
      "RuntimeWarning: Enable tracemalloc to get the object allocation traceback\n"
     ]
    },
    {
     "name": "stdout",
     "output_type": "stream",
     "text": [
      "2023-11-18\n"
     ]
    },
    {
     "name": "stderr",
     "output_type": "stream",
     "text": [
      "/tmp/ipykernel_242678/3637127067.py:10: RuntimeWarning: coroutine 'sleep' was never awaited\n",
      "  sleep(5)\n",
      "RuntimeWarning: Enable tracemalloc to get the object allocation traceback\n"
     ]
    },
    {
     "name": "stdout",
     "output_type": "stream",
     "text": [
      "2023-11-25\n"
     ]
    },
    {
     "name": "stderr",
     "output_type": "stream",
     "text": [
      "/tmp/ipykernel_242678/3637127067.py:10: RuntimeWarning: coroutine 'sleep' was never awaited\n",
      "  sleep(5)\n",
      "RuntimeWarning: Enable tracemalloc to get the object allocation traceback\n"
     ]
    },
    {
     "name": "stdout",
     "output_type": "stream",
     "text": [
      "2023-12-02\n"
     ]
    },
    {
     "name": "stderr",
     "output_type": "stream",
     "text": [
      "/tmp/ipykernel_242678/3637127067.py:10: RuntimeWarning: coroutine 'sleep' was never awaited\n",
      "  sleep(5)\n",
      "RuntimeWarning: Enable tracemalloc to get the object allocation traceback\n"
     ]
    },
    {
     "name": "stdout",
     "output_type": "stream",
     "text": [
      "2023-12-09\n"
     ]
    },
    {
     "name": "stderr",
     "output_type": "stream",
     "text": [
      "/tmp/ipykernel_242678/3637127067.py:10: RuntimeWarning: coroutine 'sleep' was never awaited\n",
      "  sleep(5)\n",
      "RuntimeWarning: Enable tracemalloc to get the object allocation traceback\n"
     ]
    },
    {
     "name": "stdout",
     "output_type": "stream",
     "text": [
      "2023-12-16\n"
     ]
    },
    {
     "name": "stderr",
     "output_type": "stream",
     "text": [
      "/tmp/ipykernel_242678/3637127067.py:10: RuntimeWarning: coroutine 'sleep' was never awaited\n",
      "  sleep(5)\n",
      "RuntimeWarning: Enable tracemalloc to get the object allocation traceback\n"
     ]
    },
    {
     "name": "stdout",
     "output_type": "stream",
     "text": [
      "2023-12-23\n"
     ]
    },
    {
     "name": "stderr",
     "output_type": "stream",
     "text": [
      "/tmp/ipykernel_242678/3637127067.py:10: RuntimeWarning: coroutine 'sleep' was never awaited\n",
      "  sleep(5)\n",
      "RuntimeWarning: Enable tracemalloc to get the object allocation traceback\n"
     ]
    },
    {
     "name": "stdout",
     "output_type": "stream",
     "text": [
      "2023-12-30\n"
     ]
    },
    {
     "name": "stderr",
     "output_type": "stream",
     "text": [
      "/tmp/ipykernel_242678/3637127067.py:10: RuntimeWarning: coroutine 'sleep' was never awaited\n",
      "  sleep(5)\n",
      "RuntimeWarning: Enable tracemalloc to get the object allocation traceback\n"
     ]
    },
    {
     "name": "stdout",
     "output_type": "stream",
     "text": [
      "2024-01-06\n"
     ]
    },
    {
     "name": "stderr",
     "output_type": "stream",
     "text": [
      "/tmp/ipykernel_242678/3637127067.py:10: RuntimeWarning: coroutine 'sleep' was never awaited\n",
      "  sleep(5)\n",
      "RuntimeWarning: Enable tracemalloc to get the object allocation traceback\n"
     ]
    },
    {
     "name": "stdout",
     "output_type": "stream",
     "text": [
      "2024-01-13\n"
     ]
    },
    {
     "name": "stderr",
     "output_type": "stream",
     "text": [
      "/tmp/ipykernel_242678/3637127067.py:10: RuntimeWarning: coroutine 'sleep' was never awaited\n",
      "  sleep(5)\n",
      "RuntimeWarning: Enable tracemalloc to get the object allocation traceback\n"
     ]
    },
    {
     "name": "stdout",
     "output_type": "stream",
     "text": [
      "2024-01-20\n"
     ]
    },
    {
     "name": "stderr",
     "output_type": "stream",
     "text": [
      "/tmp/ipykernel_242678/3637127067.py:10: RuntimeWarning: coroutine 'sleep' was never awaited\n",
      "  sleep(5)\n",
      "RuntimeWarning: Enable tracemalloc to get the object allocation traceback\n"
     ]
    },
    {
     "name": "stdout",
     "output_type": "stream",
     "text": [
      "2024-01-27\n"
     ]
    },
    {
     "name": "stderr",
     "output_type": "stream",
     "text": [
      "/tmp/ipykernel_242678/3637127067.py:10: RuntimeWarning: coroutine 'sleep' was never awaited\n",
      "  sleep(5)\n",
      "RuntimeWarning: Enable tracemalloc to get the object allocation traceback\n"
     ]
    },
    {
     "name": "stdout",
     "output_type": "stream",
     "text": [
      "2024-02-03\n"
     ]
    },
    {
     "name": "stderr",
     "output_type": "stream",
     "text": [
      "/tmp/ipykernel_242678/3637127067.py:10: RuntimeWarning: coroutine 'sleep' was never awaited\n",
      "  sleep(5)\n",
      "RuntimeWarning: Enable tracemalloc to get the object allocation traceback\n"
     ]
    },
    {
     "name": "stdout",
     "output_type": "stream",
     "text": [
      "2024-02-10\n"
     ]
    },
    {
     "name": "stderr",
     "output_type": "stream",
     "text": [
      "/tmp/ipykernel_242678/3637127067.py:10: RuntimeWarning: coroutine 'sleep' was never awaited\n",
      "  sleep(5)\n",
      "RuntimeWarning: Enable tracemalloc to get the object allocation traceback\n"
     ]
    },
    {
     "name": "stdout",
     "output_type": "stream",
     "text": [
      "2024-02-17\n"
     ]
    },
    {
     "name": "stderr",
     "output_type": "stream",
     "text": [
      "/tmp/ipykernel_242678/3637127067.py:10: RuntimeWarning: coroutine 'sleep' was never awaited\n",
      "  sleep(5)\n",
      "RuntimeWarning: Enable tracemalloc to get the object allocation traceback\n"
     ]
    },
    {
     "name": "stdout",
     "output_type": "stream",
     "text": [
      "2024-02-24\n"
     ]
    },
    {
     "name": "stderr",
     "output_type": "stream",
     "text": [
      "/tmp/ipykernel_242678/3637127067.py:10: RuntimeWarning: coroutine 'sleep' was never awaited\n",
      "  sleep(5)\n",
      "RuntimeWarning: Enable tracemalloc to get the object allocation traceback\n"
     ]
    },
    {
     "name": "stdout",
     "output_type": "stream",
     "text": [
      "2024-03-02\n"
     ]
    },
    {
     "name": "stderr",
     "output_type": "stream",
     "text": [
      "/tmp/ipykernel_242678/3637127067.py:10: RuntimeWarning: coroutine 'sleep' was never awaited\n",
      "  sleep(5)\n",
      "RuntimeWarning: Enable tracemalloc to get the object allocation traceback\n"
     ]
    },
    {
     "name": "stdout",
     "output_type": "stream",
     "text": [
      "2024-03-09\n"
     ]
    },
    {
     "name": "stderr",
     "output_type": "stream",
     "text": [
      "/tmp/ipykernel_242678/3637127067.py:10: RuntimeWarning: coroutine 'sleep' was never awaited\n",
      "  sleep(5)\n",
      "RuntimeWarning: Enable tracemalloc to get the object allocation traceback\n"
     ]
    },
    {
     "name": "stdout",
     "output_type": "stream",
     "text": [
      "2024-03-16\n"
     ]
    },
    {
     "name": "stderr",
     "output_type": "stream",
     "text": [
      "/tmp/ipykernel_242678/3637127067.py:10: RuntimeWarning: coroutine 'sleep' was never awaited\n",
      "  sleep(5)\n",
      "RuntimeWarning: Enable tracemalloc to get the object allocation traceback\n"
     ]
    },
    {
     "name": "stdout",
     "output_type": "stream",
     "text": [
      "2024-03-23\n"
     ]
    },
    {
     "name": "stderr",
     "output_type": "stream",
     "text": [
      "/tmp/ipykernel_242678/3637127067.py:10: RuntimeWarning: coroutine 'sleep' was never awaited\n",
      "  sleep(5)\n",
      "RuntimeWarning: Enable tracemalloc to get the object allocation traceback\n"
     ]
    },
    {
     "name": "stdout",
     "output_type": "stream",
     "text": [
      "2024-03-30\n"
     ]
    },
    {
     "name": "stderr",
     "output_type": "stream",
     "text": [
      "/tmp/ipykernel_242678/3637127067.py:10: RuntimeWarning: coroutine 'sleep' was never awaited\n",
      "  sleep(5)\n",
      "RuntimeWarning: Enable tracemalloc to get the object allocation traceback\n"
     ]
    },
    {
     "name": "stdout",
     "output_type": "stream",
     "text": [
      "2024-04-06\n"
     ]
    },
    {
     "name": "stderr",
     "output_type": "stream",
     "text": [
      "/tmp/ipykernel_242678/3637127067.py:10: RuntimeWarning: coroutine 'sleep' was never awaited\n",
      "  sleep(5)\n",
      "RuntimeWarning: Enable tracemalloc to get the object allocation traceback\n"
     ]
    },
    {
     "name": "stdout",
     "output_type": "stream",
     "text": [
      "2024-04-13\n"
     ]
    },
    {
     "name": "stderr",
     "output_type": "stream",
     "text": [
      "/tmp/ipykernel_242678/3637127067.py:10: RuntimeWarning: coroutine 'sleep' was never awaited\n",
      "  sleep(5)\n",
      "RuntimeWarning: Enable tracemalloc to get the object allocation traceback\n"
     ]
    },
    {
     "name": "stdout",
     "output_type": "stream",
     "text": [
      "2024-05-01\n"
     ]
    },
    {
     "ename": "ValueError",
     "evalue": "Length of values (50) does not match length of index (5)",
     "output_type": "error",
     "traceback": [
      "\u001B[0;31m---------------------------------------------------------------------------\u001B[0m",
      "\u001B[0;31mValueError\u001B[0m                                Traceback (most recent call last)",
      "Cell \u001B[0;32mIn[2], line 15\u001B[0m\n\u001B[1;32m     13\u001B[0m date \u001B[38;5;241m=\u001B[39m filename\u001B[38;5;241m.\u001B[39mreplace(\u001B[38;5;124m\"\u001B[39m\u001B[38;5;124m.csv\u001B[39m\u001B[38;5;124m\"\u001B[39m, \u001B[38;5;124m\"\u001B[39m\u001B[38;5;124m\"\u001B[39m)\n\u001B[1;32m     14\u001B[0m \u001B[38;5;28mprint\u001B[39m(date)\n\u001B[0;32m---> 15\u001B[0m \u001B[43mdf\u001B[49m\u001B[43m[\u001B[49m\u001B[38;5;124;43m'\u001B[39;49m\u001B[38;5;124;43mgoogle_search\u001B[39;49m\u001B[38;5;124;43m'\u001B[39;49m\u001B[43m]\u001B[49m \u001B[38;5;241m=\u001B[39m get_google_search(loc_code\u001B[38;5;241m=\u001B[39m\u001B[38;5;124m\"\u001B[39m\u001B[38;5;124m04\u001B[39m\u001B[38;5;124m\"\u001B[39m, \n\u001B[1;32m     16\u001B[0m                                           search_term\u001B[38;5;241m=\u001B[39m\u001B[38;5;124m'\u001B[39m\u001B[38;5;124mflu symptoms\u001B[39m\u001B[38;5;124m'\u001B[39m,\n\u001B[1;32m     17\u001B[0m                                           target_date\u001B[38;5;241m=\u001B[39mdate, \n\u001B[1;32m     18\u001B[0m                                           series_length\u001B[38;5;241m=\u001B[39m\u001B[38;5;241m50\u001B[39m)\u001B[38;5;241m.\u001B[39mto_numpy()\n\u001B[1;32m     19\u001B[0m df\u001B[38;5;241m.\u001B[39mto_csv(file, index\u001B[38;5;241m=\u001B[39m\u001B[38;5;28;01mFalse\u001B[39;00m)\n",
      "File \u001B[0;32m~/Documents/code/PF_forecast/.venv/lib64/python3.12/site-packages/pandas/core/frame.py:4311\u001B[0m, in \u001B[0;36mDataFrame.__setitem__\u001B[0;34m(self, key, value)\u001B[0m\n\u001B[1;32m   4308\u001B[0m     \u001B[38;5;28mself\u001B[39m\u001B[38;5;241m.\u001B[39m_setitem_array([key], value)\n\u001B[1;32m   4309\u001B[0m \u001B[38;5;28;01melse\u001B[39;00m:\n\u001B[1;32m   4310\u001B[0m     \u001B[38;5;66;03m# set column\u001B[39;00m\n\u001B[0;32m-> 4311\u001B[0m     \u001B[38;5;28;43mself\u001B[39;49m\u001B[38;5;241;43m.\u001B[39;49m\u001B[43m_set_item\u001B[49m\u001B[43m(\u001B[49m\u001B[43mkey\u001B[49m\u001B[43m,\u001B[49m\u001B[43m \u001B[49m\u001B[43mvalue\u001B[49m\u001B[43m)\u001B[49m\n",
      "File \u001B[0;32m~/Documents/code/PF_forecast/.venv/lib64/python3.12/site-packages/pandas/core/frame.py:4524\u001B[0m, in \u001B[0;36mDataFrame._set_item\u001B[0;34m(self, key, value)\u001B[0m\n\u001B[1;32m   4514\u001B[0m \u001B[38;5;28;01mdef\u001B[39;00m \u001B[38;5;21m_set_item\u001B[39m(\u001B[38;5;28mself\u001B[39m, key, value) \u001B[38;5;241m-\u001B[39m\u001B[38;5;241m>\u001B[39m \u001B[38;5;28;01mNone\u001B[39;00m:\n\u001B[1;32m   4515\u001B[0m \u001B[38;5;250m    \u001B[39m\u001B[38;5;124;03m\"\"\"\u001B[39;00m\n\u001B[1;32m   4516\u001B[0m \u001B[38;5;124;03m    Add series to DataFrame in specified column.\u001B[39;00m\n\u001B[1;32m   4517\u001B[0m \n\u001B[0;32m   (...)\u001B[0m\n\u001B[1;32m   4522\u001B[0m \u001B[38;5;124;03m    ensure homogeneity.\u001B[39;00m\n\u001B[1;32m   4523\u001B[0m \u001B[38;5;124;03m    \"\"\"\u001B[39;00m\n\u001B[0;32m-> 4524\u001B[0m     value, refs \u001B[38;5;241m=\u001B[39m \u001B[38;5;28;43mself\u001B[39;49m\u001B[38;5;241;43m.\u001B[39;49m\u001B[43m_sanitize_column\u001B[49m\u001B[43m(\u001B[49m\u001B[43mvalue\u001B[49m\u001B[43m)\u001B[49m\n\u001B[1;32m   4526\u001B[0m     \u001B[38;5;28;01mif\u001B[39;00m (\n\u001B[1;32m   4527\u001B[0m         key \u001B[38;5;129;01min\u001B[39;00m \u001B[38;5;28mself\u001B[39m\u001B[38;5;241m.\u001B[39mcolumns\n\u001B[1;32m   4528\u001B[0m         \u001B[38;5;129;01mand\u001B[39;00m value\u001B[38;5;241m.\u001B[39mndim \u001B[38;5;241m==\u001B[39m \u001B[38;5;241m1\u001B[39m\n\u001B[1;32m   4529\u001B[0m         \u001B[38;5;129;01mand\u001B[39;00m \u001B[38;5;129;01mnot\u001B[39;00m \u001B[38;5;28misinstance\u001B[39m(value\u001B[38;5;241m.\u001B[39mdtype, ExtensionDtype)\n\u001B[1;32m   4530\u001B[0m     ):\n\u001B[1;32m   4531\u001B[0m         \u001B[38;5;66;03m# broadcast across multiple columns if necessary\u001B[39;00m\n\u001B[1;32m   4532\u001B[0m         \u001B[38;5;28;01mif\u001B[39;00m \u001B[38;5;129;01mnot\u001B[39;00m \u001B[38;5;28mself\u001B[39m\u001B[38;5;241m.\u001B[39mcolumns\u001B[38;5;241m.\u001B[39mis_unique \u001B[38;5;129;01mor\u001B[39;00m \u001B[38;5;28misinstance\u001B[39m(\u001B[38;5;28mself\u001B[39m\u001B[38;5;241m.\u001B[39mcolumns, MultiIndex):\n",
      "File \u001B[0;32m~/Documents/code/PF_forecast/.venv/lib64/python3.12/site-packages/pandas/core/frame.py:5266\u001B[0m, in \u001B[0;36mDataFrame._sanitize_column\u001B[0;34m(self, value)\u001B[0m\n\u001B[1;32m   5263\u001B[0m     \u001B[38;5;28;01mreturn\u001B[39;00m _reindex_for_setitem(value, \u001B[38;5;28mself\u001B[39m\u001B[38;5;241m.\u001B[39mindex)\n\u001B[1;32m   5265\u001B[0m \u001B[38;5;28;01mif\u001B[39;00m is_list_like(value):\n\u001B[0;32m-> 5266\u001B[0m     \u001B[43mcom\u001B[49m\u001B[38;5;241;43m.\u001B[39;49m\u001B[43mrequire_length_match\u001B[49m\u001B[43m(\u001B[49m\u001B[43mvalue\u001B[49m\u001B[43m,\u001B[49m\u001B[43m \u001B[49m\u001B[38;5;28;43mself\u001B[39;49m\u001B[38;5;241;43m.\u001B[39;49m\u001B[43mindex\u001B[49m\u001B[43m)\u001B[49m\n\u001B[1;32m   5267\u001B[0m arr \u001B[38;5;241m=\u001B[39m sanitize_array(value, \u001B[38;5;28mself\u001B[39m\u001B[38;5;241m.\u001B[39mindex, copy\u001B[38;5;241m=\u001B[39m\u001B[38;5;28;01mTrue\u001B[39;00m, allow_2d\u001B[38;5;241m=\u001B[39m\u001B[38;5;28;01mTrue\u001B[39;00m)\n\u001B[1;32m   5268\u001B[0m \u001B[38;5;28;01mif\u001B[39;00m (\n\u001B[1;32m   5269\u001B[0m     \u001B[38;5;28misinstance\u001B[39m(value, Index)\n\u001B[1;32m   5270\u001B[0m     \u001B[38;5;129;01mand\u001B[39;00m value\u001B[38;5;241m.\u001B[39mdtype \u001B[38;5;241m==\u001B[39m \u001B[38;5;124m\"\u001B[39m\u001B[38;5;124mobject\u001B[39m\u001B[38;5;124m\"\u001B[39m\n\u001B[0;32m   (...)\u001B[0m\n\u001B[1;32m   5273\u001B[0m     \u001B[38;5;66;03m# TODO: Remove kludge in sanitize_array for string mode when enforcing\u001B[39;00m\n\u001B[1;32m   5274\u001B[0m     \u001B[38;5;66;03m# this deprecation\u001B[39;00m\n",
      "File \u001B[0;32m~/Documents/code/PF_forecast/.venv/lib64/python3.12/site-packages/pandas/core/common.py:573\u001B[0m, in \u001B[0;36mrequire_length_match\u001B[0;34m(data, index)\u001B[0m\n\u001B[1;32m    569\u001B[0m \u001B[38;5;250m\u001B[39m\u001B[38;5;124;03m\"\"\"\u001B[39;00m\n\u001B[1;32m    570\u001B[0m \u001B[38;5;124;03mCheck the length of data matches the length of the index.\u001B[39;00m\n\u001B[1;32m    571\u001B[0m \u001B[38;5;124;03m\"\"\"\u001B[39;00m\n\u001B[1;32m    572\u001B[0m \u001B[38;5;28;01mif\u001B[39;00m \u001B[38;5;28mlen\u001B[39m(data) \u001B[38;5;241m!=\u001B[39m \u001B[38;5;28mlen\u001B[39m(index):\n\u001B[0;32m--> 573\u001B[0m     \u001B[38;5;28;01mraise\u001B[39;00m \u001B[38;5;167;01mValueError\u001B[39;00m(\n\u001B[1;32m    574\u001B[0m         \u001B[38;5;124m\"\u001B[39m\u001B[38;5;124mLength of values \u001B[39m\u001B[38;5;124m\"\u001B[39m\n\u001B[1;32m    575\u001B[0m         \u001B[38;5;124mf\u001B[39m\u001B[38;5;124m\"\u001B[39m\u001B[38;5;124m(\u001B[39m\u001B[38;5;132;01m{\u001B[39;00m\u001B[38;5;28mlen\u001B[39m(data)\u001B[38;5;132;01m}\u001B[39;00m\u001B[38;5;124m) \u001B[39m\u001B[38;5;124m\"\u001B[39m\n\u001B[1;32m    576\u001B[0m         \u001B[38;5;124m\"\u001B[39m\u001B[38;5;124mdoes not match length of index \u001B[39m\u001B[38;5;124m\"\u001B[39m\n\u001B[1;32m    577\u001B[0m         \u001B[38;5;124mf\u001B[39m\u001B[38;5;124m\"\u001B[39m\u001B[38;5;124m(\u001B[39m\u001B[38;5;132;01m{\u001B[39;00m\u001B[38;5;28mlen\u001B[39m(index)\u001B[38;5;132;01m}\u001B[39;00m\u001B[38;5;124m)\u001B[39m\u001B[38;5;124m\"\u001B[39m\n\u001B[1;32m    578\u001B[0m     )\n",
      "\u001B[0;31mValueError\u001B[0m: Length of values (50) does not match length of index (5)"
     ]
    }
   ],
   "execution_count": 2
  },
  {
   "metadata": {},
   "cell_type": "code",
   "outputs": [],
   "execution_count": null,
   "source": "",
   "id": "5707b7c915b2292c"
  }
 ],
 "metadata": {
  "kernelspec": {
   "display_name": "Python 3",
   "language": "python",
   "name": "python3"
  },
  "language_info": {
   "codemirror_mode": {
    "name": "ipython",
    "version": 2
   },
   "file_extension": ".py",
   "mimetype": "text/x-python",
   "name": "python",
   "nbconvert_exporter": "python",
   "pygments_lexer": "ipython2",
   "version": "2.7.6"
  }
 },
 "nbformat": 4,
 "nbformat_minor": 5
}
