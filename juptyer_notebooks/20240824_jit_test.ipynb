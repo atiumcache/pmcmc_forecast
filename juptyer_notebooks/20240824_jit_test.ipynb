{
 "cells": [
  {
   "cell_type": "code",
   "execution_count": 16,
   "id": "initial_id",
   "metadata": {
    "ExecuteTime": {
     "end_time": "2024-08-20T19:42:25.173223Z",
     "start_time": "2024-08-20T19:42:25.164311Z"
    },
    "collapsed": true,
    "jupyter": {
     "outputs_hidden": true
    }
   },
   "outputs": [],
   "source": [
    "import jax\n",
    "import jax.scipy.stats.nbinom as nbinom\n",
    "\n",
    "\n",
    "def compute_single_weight(\n",
    "    reported_data: int, particle_estimate: float | int, r: float | int\n",
    ") -> float:\n",
    "    epsilon = 0.005\n",
    "    weight = nbinom.logpmf(\n",
    "        k=reported_data,\n",
    "        n=r,\n",
    "        p=r / (r + particle_estimate + epsilon),\n",
    "    )\n",
    "    return weight\n",
    "\n",
    "\n",
    "@jax.jit\n",
    "def compute_single_weight_jit(\n",
    "    reported_data: int, particle_estimate: float | int, r: float | int\n",
    ") -> float:\n",
    "    epsilon = 0.005\n",
    "    weight = nbinom.logpmf(\n",
    "        k=reported_data,\n",
    "        n=r,\n",
    "        p=r / (r + particle_estimate + epsilon),\n",
    "    )\n",
    "    return weight"
   ]
  },
  {
   "cell_type": "code",
   "execution_count": 17,
   "id": "e3305ba91ba866d",
   "metadata": {
    "ExecuteTime": {
     "end_time": "2024-08-20T19:42:25.916796Z",
     "start_time": "2024-08-20T19:42:25.910568Z"
    }
   },
   "outputs": [],
   "source": [
    "reports = jax.numpy.ones(500)\n",
    "key = jax.random.PRNGKey(0)\n",
    "random_integers = jax.random.randint(key, shape=(500,), minval=0, maxval=11)"
   ]
  },
  {
   "cell_type": "code",
   "execution_count": 18,
   "id": "f575d96a54d2fd69",
   "metadata": {
    "ExecuteTime": {
     "end_time": "2024-08-20T19:42:26.318523Z",
     "start_time": "2024-08-20T19:42:26.313803Z"
    }
   },
   "outputs": [
    {
     "name": "stdout",
     "output_type": "stream",
     "text": [
      "True\n"
     ]
    }
   ],
   "source": [
    "print(reports.shape == random_integers.shape)"
   ]
  },
  {
   "cell_type": "code",
   "execution_count": 19,
   "id": "74f1d9771f3617b8",
   "metadata": {
    "ExecuteTime": {
     "end_time": "2024-08-20T19:42:26.784898Z",
     "start_time": "2024-08-20T19:42:26.779455Z"
    }
   },
   "outputs": [],
   "source": [
    "def regular():\n",
    "    for i in range(500):\n",
    "        compute_single_weight(reports[i], random_integers[i], r=10)\n",
    "\n",
    "\n",
    "def jitted():\n",
    "    for i in range(500):\n",
    "        compute_single_weight_jit(reports[i], random_integers[i], r=10)"
   ]
  },
  {
   "cell_type": "code",
   "execution_count": 24,
   "id": "89131a082bfc6657",
   "metadata": {
    "ExecuteTime": {
     "end_time": "2024-08-20T19:45:18.419988Z",
     "start_time": "2024-08-20T19:45:07.685921Z"
    }
   },
   "outputs": [
    {
     "name": "stdout",
     "output_type": "stream",
     "text": [
      "1.31 s ± 208 ms per loop (mean ± std. dev. of 7 runs, 1 loop each)\n"
     ]
    }
   ],
   "source": [
    "%timeit regular()"
   ]
  },
  {
   "cell_type": "code",
   "execution_count": 25,
   "id": "441dba97d18ed794",
   "metadata": {
    "ExecuteTime": {
     "end_time": "2024-08-20T19:45:19.992424Z",
     "start_time": "2024-08-20T19:45:18.423632Z"
    }
   },
   "outputs": [
    {
     "name": "stdout",
     "output_type": "stream",
     "text": [
      "186 ms ± 10 ms per loop (mean ± std. dev. of 7 runs, 1 loop each)\n"
     ]
    }
   ],
   "source": [
    "%timeit jitted()"
   ]
  },
  {
   "cell_type": "code",
   "execution_count": 27,
   "id": "bdf919473ca07341",
   "metadata": {
    "ExecuteTime": {
     "end_time": "2024-08-20T19:48:57.715610Z",
     "start_time": "2024-08-20T19:48:57.711649Z"
    }
   },
   "outputs": [
    {
     "name": "stdout",
     "output_type": "stream",
     "text": [
      "JIT function is approximately 7.04 times faster.\n"
     ]
    }
   ],
   "source": [
    "print(\"JIT function is approximately\", round(1.31 / 0.186, 2), \"times faster.\")"
   ]
  },
  {
   "cell_type": "code",
   "execution_count": null,
   "id": "8098d20271adf6f0",
   "metadata": {},
   "outputs": [],
   "source": []
  }
 ],
 "metadata": {
  "kernelspec": {
   "display_name": "Python 3 (ipykernel)",
   "language": "python",
   "name": "python3"
  },
  "language_info": {
   "codemirror_mode": {
    "name": "ipython",
    "version": 3
   },
   "file_extension": ".py",
   "mimetype": "text/x-python",
   "name": "python",
   "nbconvert_exporter": "python",
   "pygments_lexer": "ipython3",
   "version": "3.12.4"
  }
 },
 "nbformat": 4,
 "nbformat_minor": 5
}
