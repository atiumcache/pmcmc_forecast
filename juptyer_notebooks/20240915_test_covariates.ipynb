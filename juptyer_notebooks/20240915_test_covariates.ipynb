{
 "cells": [
  {
   "cell_type": "code",
   "id": "initial_id",
   "metadata": {
    "collapsed": true,
    "ExecuteTime": {
     "end_time": "2024-09-15T16:20:55.783131Z",
     "start_time": "2024-09-15T16:20:55.155652Z"
    }
   },
   "source": "from src.trend_forecast.covariate_getters import get_lat_long, get_mean_temp",
   "outputs": [],
   "execution_count": 1
  },
  {
   "metadata": {
    "ExecuteTime": {
     "end_time": "2024-09-15T16:20:55.799488Z",
     "start_time": "2024-09-15T16:20:55.786490Z"
    }
   },
   "cell_type": "code",
   "source": [
    "coordinates = get_lat_long(\"04\")"
   ],
   "id": "2d8c343c1513fd41",
   "outputs": [],
   "execution_count": 2
  },
  {
   "metadata": {
    "ExecuteTime": {
     "end_time": "2024-09-15T16:20:55.812503Z",
     "start_time": "2024-09-15T16:20:55.801152Z"
    }
   },
   "cell_type": "code",
   "source": [
    "print(coordinates)\n",
    "print(coordinates[0])"
   ],
   "id": "59ca4437ac2b0ec",
   "outputs": [
    {
     "name": "stdout",
     "output_type": "stream",
     "text": [
      "(np.float64(33.4484), np.float64(-112.074))\n",
      "33.4484\n"
     ]
    }
   ],
   "execution_count": 3
  },
  {
   "metadata": {
    "ExecuteTime": {
     "end_time": "2024-09-15T16:20:56.489092Z",
     "start_time": "2024-09-15T16:20:55.815231Z"
    }
   },
   "cell_type": "code",
   "source": [
    "temps_series = get_mean_temp(\"04\", \"2024-05-01\")"
   ],
   "id": "6d0f41d118294479",
   "outputs": [
    {
     "name": "stdout",
     "output_type": "stream",
     "text": [
      "33.4484\n"
     ]
    }
   ],
   "execution_count": 4
  },
  {
   "metadata": {
    "ExecuteTime": {
     "end_time": "2024-09-15T16:21:01.155469Z",
     "start_time": "2024-09-15T16:21:01.106307Z"
    }
   },
   "cell_type": "code",
   "source": "temps_series",
   "id": "4f4fe68e053414e1",
   "outputs": [
    {
     "data": {
      "text/plain": [
       "2024-02-11     8.1\n",
       "2024-02-12     8.9\n",
       "2024-02-13    10.7\n",
       "2024-02-14    11.7\n",
       "2024-02-15    12.2\n",
       "              ... \n",
       "2024-04-27    20.9\n",
       "2024-04-28    23.3\n",
       "2024-04-29    25.3\n",
       "2024-04-30    26.9\n",
       "2024-05-01    26.2\n",
       "Name: mean_temp, Length: 81, dtype: float64"
      ]
     },
     "execution_count": 5,
     "metadata": {},
     "output_type": "execute_result"
    }
   ],
   "execution_count": 5
  },
  {
   "metadata": {},
   "cell_type": "code",
   "outputs": [],
   "execution_count": null,
   "source": "",
   "id": "c110fdf9d9452b4d"
  }
 ],
 "metadata": {
  "kernelspec": {
   "display_name": "Python 3",
   "language": "python",
   "name": "python3"
  },
  "language_info": {
   "codemirror_mode": {
    "name": "ipython",
    "version": 2
   },
   "file_extension": ".py",
   "mimetype": "text/x-python",
   "name": "python",
   "nbconvert_exporter": "python",
   "pygments_lexer": "ipython2",
   "version": "2.7.6"
  }
 },
 "nbformat": 4,
 "nbformat_minor": 5
}
