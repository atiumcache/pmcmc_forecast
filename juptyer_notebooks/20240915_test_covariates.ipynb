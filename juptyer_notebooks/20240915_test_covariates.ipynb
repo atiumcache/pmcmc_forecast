{
 "cells": [
  {
   "cell_type": "code",
   "id": "initial_id",
   "metadata": {
    "collapsed": true,
    "ExecuteTime": {
     "end_time": "2024-09-15T23:12:52.163313Z",
     "start_time": "2024-09-15T23:12:51.683876Z"
    }
   },
   "source": "from src.trend_forecast.covariate_getters import get_lat_long, get_mean_temp, get_max_rel_humidity",
   "outputs": [],
   "execution_count": 1
  },
  {
   "metadata": {
    "ExecuteTime": {
     "end_time": "2024-09-15T23:12:52.175439Z",
     "start_time": "2024-09-15T23:12:52.165430Z"
    }
   },
   "cell_type": "code",
   "source": [
    "coordinates = get_lat_long(\"04\")"
   ],
   "id": "2d8c343c1513fd41",
   "outputs": [],
   "execution_count": 2
  },
  {
   "metadata": {
    "ExecuteTime": {
     "end_time": "2024-09-15T23:12:52.181289Z",
     "start_time": "2024-09-15T23:12:52.177286Z"
    }
   },
   "cell_type": "code",
   "source": [
    "print(coordinates)\n",
    "print(coordinates[0])"
   ],
   "id": "59ca4437ac2b0ec",
   "outputs": [
    {
     "name": "stdout",
     "output_type": "stream",
     "text": [
      "(np.float64(33.4484), np.float64(-112.074))\n",
      "33.4484\n"
     ]
    }
   ],
   "execution_count": 3
  },
  {
   "metadata": {
    "ExecuteTime": {
     "end_time": "2024-09-15T23:12:53.095940Z",
     "start_time": "2024-09-15T23:12:52.184213Z"
    }
   },
   "cell_type": "code",
   "source": "temps_series = get_mean_temp(\"04\", \"2024-05-01\", 80)",
   "id": "6d0f41d118294479",
   "outputs": [],
   "execution_count": 4
  },
  {
   "metadata": {
    "ExecuteTime": {
     "end_time": "2024-09-15T23:12:53.115419Z",
     "start_time": "2024-09-15T23:12:53.098220Z"
    }
   },
   "cell_type": "code",
   "source": "temps_series",
   "id": "4f4fe68e053414e1",
   "outputs": [
    {
     "data": {
      "text/plain": [
       "2024-02-12     8.9\n",
       "2024-02-13    10.7\n",
       "2024-02-14    11.7\n",
       "2024-02-15    12.2\n",
       "2024-02-16    12.8\n",
       "              ... \n",
       "2024-04-27    20.9\n",
       "2024-04-28    23.3\n",
       "2024-04-29    25.3\n",
       "2024-04-30    26.9\n",
       "2024-05-01    26.2\n",
       "Name: temperature_2m_mean, Length: 80, dtype: float64"
      ]
     },
     "execution_count": 5,
     "metadata": {},
     "output_type": "execute_result"
    }
   ],
   "execution_count": 5
  },
  {
   "metadata": {
    "ExecuteTime": {
     "end_time": "2024-09-15T23:12:54.029303Z",
     "start_time": "2024-09-15T23:12:53.117440Z"
    }
   },
   "cell_type": "code",
   "source": "humidity_series = get_max_rel_humidity(\"04\", \"2024-05-01\", 80)",
   "id": "c110fdf9d9452b4d",
   "outputs": [],
   "execution_count": 6
  },
  {
   "metadata": {
    "ExecuteTime": {
     "end_time": "2024-09-15T23:12:54.044130Z",
     "start_time": "2024-09-15T23:12:54.032440Z"
    }
   },
   "cell_type": "code",
   "source": "humidity_series",
   "id": "1b0d6d113fbbcded",
   "outputs": [
    {
     "data": {
      "text/plain": [
       "time\n",
       "2024-02-12    88\n",
       "2024-02-13    88\n",
       "2024-02-14    95\n",
       "2024-02-15    92\n",
       "2024-02-16    88\n",
       "              ..\n",
       "2024-04-27    53\n",
       "2024-04-28    43\n",
       "2024-04-29    38\n",
       "2024-04-30    31\n",
       "2024-05-01    36\n",
       "Freq: D, Name: relative_humidity_2m, Length: 80, dtype: int64"
      ]
     },
     "execution_count": 7,
     "metadata": {},
     "output_type": "execute_result"
    }
   ],
   "execution_count": 7
  },
  {
   "metadata": {
    "ExecuteTime": {
     "end_time": "2024-09-15T23:12:54.051054Z",
     "start_time": "2024-09-15T23:12:54.047172Z"
    }
   },
   "cell_type": "code",
   "source": "",
   "id": "862b69350b717301",
   "outputs": [],
   "execution_count": 7
  }
 ],
 "metadata": {
  "kernelspec": {
   "display_name": "Python 3",
   "language": "python",
   "name": "python3"
  },
  "language_info": {
   "codemirror_mode": {
    "name": "ipython",
    "version": 2
   },
   "file_extension": ".py",
   "mimetype": "text/x-python",
   "name": "python",
   "nbconvert_exporter": "python",
   "pygments_lexer": "ipython2",
   "version": "2.7.6"
  }
 },
 "nbformat": 4,
 "nbformat_minor": 5
}
