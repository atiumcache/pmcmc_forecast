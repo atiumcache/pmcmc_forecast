{
 "cells": [
  {
   "cell_type": "code",
   "id": "initial_id",
   "metadata": {
    "collapsed": true,
    "ExecuteTime": {
     "end_time": "2024-09-15T23:12:52.163313Z",
     "start_time": "2024-09-15T23:12:51.683876Z"
    }
   },
   "source": "from src.trend_forecast.covariate_getters import get_lat_long, get_mean_temp, get_max_rel_humidity",
   "outputs": [],
   "execution_count": 1
  },
  {
   "metadata": {
    "ExecuteTime": {
     "end_time": "2024-09-15T23:12:52.175439Z",
     "start_time": "2024-09-15T23:12:52.165430Z"
    }
   },
   "cell_type": "code",
   "source": [
    "coordinates = get_lat_long(\"04\")"
   ],
   "id": "2d8c343c1513fd41",
   "outputs": [],
   "execution_count": 2
  },
  {
   "metadata": {
    "ExecuteTime": {
     "end_time": "2024-09-15T23:12:52.181289Z",
     "start_time": "2024-09-15T23:12:52.177286Z"
    }
   },
   "cell_type": "code",
   "source": [
    "print(coordinates)\n",
    "print(coordinates[0])"
   ],
   "id": "59ca4437ac2b0ec",
   "outputs": [
    {
     "name": "stdout",
     "output_type": "stream",
     "text": [
      "(np.float64(33.4484), np.float64(-112.074))\n",
      "33.4484\n"
     ]
    }
   ],
   "execution_count": 3
  },
  {
   "metadata": {
    "ExecuteTime": {
     "end_time": "2024-09-15T23:12:53.095940Z",
     "start_time": "2024-09-15T23:12:52.184213Z"
    }
   },
   "cell_type": "code",
   "source": "temps_series = get_mean_temp(\"04\", \"2024-05-01\", 80)",
   "id": "6d0f41d118294479",
   "outputs": [],
   "execution_count": 4
  },
  {
   "metadata": {
    "ExecuteTime": {
     "end_time": "2024-09-15T23:12:53.115419Z",
     "start_time": "2024-09-15T23:12:53.098220Z"
    }
   },
   "cell_type": "code",
   "source": "temps_series",
   "id": "4f4fe68e053414e1",
   "outputs": [
    {
     "data": {
      "text/plain": [
       "2024-02-12     8.9\n",
       "2024-02-13    10.7\n",
       "2024-02-14    11.7\n",
       "2024-02-15    12.2\n",
       "2024-02-16    12.8\n",
       "              ... \n",
       "2024-04-27    20.9\n",
       "2024-04-28    23.3\n",
       "2024-04-29    25.3\n",
       "2024-04-30    26.9\n",
       "2024-05-01    26.2\n",
       "Name: temperature_2m_mean, Length: 80, dtype: float64"
      ]
     },
     "execution_count": 5,
     "metadata": {},
     "output_type": "execute_result"
    }
   ],
   "execution_count": 5
  },
  {
   "metadata": {
    "ExecuteTime": {
     "end_time": "2024-09-15T23:12:54.029303Z",
     "start_time": "2024-09-15T23:12:53.117440Z"
    }
   },
   "cell_type": "code",
   "source": "humidity_series = get_max_rel_humidity(\"04\", \"2024-05-01\", 80)",
   "id": "c110fdf9d9452b4d",
   "outputs": [],
   "execution_count": 6
  },
  {
   "metadata": {
    "ExecuteTime": {
     "end_time": "2024-09-15T23:12:54.044130Z",
     "start_time": "2024-09-15T23:12:54.032440Z"
    }
   },
   "cell_type": "code",
   "source": "humidity_series",
   "id": "1b0d6d113fbbcded",
   "outputs": [
    {
     "data": {
      "text/plain": [
       "time\n",
       "2024-02-12    88\n",
       "2024-02-13    88\n",
       "2024-02-14    95\n",
       "2024-02-15    92\n",
       "2024-02-16    88\n",
       "              ..\n",
       "2024-04-27    53\n",
       "2024-04-28    43\n",
       "2024-04-29    38\n",
       "2024-04-30    31\n",
       "2024-05-01    36\n",
       "Freq: D, Name: relative_humidity_2m, Length: 80, dtype: int64"
      ]
     },
     "execution_count": 7,
     "metadata": {},
     "output_type": "execute_result"
    }
   ],
   "execution_count": 7
  },
  {
   "metadata": {
    "ExecuteTime": {
     "end_time": "2024-09-17T00:12:26.637330Z",
     "start_time": "2024-09-17T00:12:20.918984Z"
    }
   },
   "cell_type": "code",
   "source": [
    "from src.trend_forecast.covariates import get_covariate_data, CovariateSelection\n",
    "\n",
    "selected_covariates = CovariateSelection(\n",
    "    mean_temp=True,\n",
    "    max_rel_humidity=True,\n",
    "    sun_duration=True,\n",
    "    wind_speed=True,\n",
    "    radiation=True,\n",
    "    google_search=False,\n",
    "    movement=False\n",
    ")\n",
    "\n",
    "df = get_covariate_data(covariates=selected_covariates,\n",
    "                        loc_code='04',\n",
    "                        target_date='2024-05-01',\n",
    "                        series_length=5)\n",
    "df"
   ],
   "id": "862b69350b717301",
   "outputs": [
    {
     "data": {
      "text/plain": [
       "            mean_temp  max_rel_humidity  sun_duration  wind_speed  radiation\n",
       "2024-04-27       20.9                53      45313.70        20.6       20.6\n",
       "2024-04-28       23.3                43      45416.67        11.9       11.9\n",
       "2024-04-29       25.3                38      45518.78        12.7       12.7\n",
       "2024-04-30       26.9                31      45619.94        25.9       25.9\n",
       "2024-05-01       26.2                36      45720.07        20.8       20.8"
      ],
      "text/html": [
       "<div>\n",
       "<style scoped>\n",
       "    .dataframe tbody tr th:only-of-type {\n",
       "        vertical-align: middle;\n",
       "    }\n",
       "\n",
       "    .dataframe tbody tr th {\n",
       "        vertical-align: top;\n",
       "    }\n",
       "\n",
       "    .dataframe thead th {\n",
       "        text-align: right;\n",
       "    }\n",
       "</style>\n",
       "<table border=\"1\" class=\"dataframe\">\n",
       "  <thead>\n",
       "    <tr style=\"text-align: right;\">\n",
       "      <th></th>\n",
       "      <th>mean_temp</th>\n",
       "      <th>max_rel_humidity</th>\n",
       "      <th>sun_duration</th>\n",
       "      <th>wind_speed</th>\n",
       "      <th>radiation</th>\n",
       "    </tr>\n",
       "  </thead>\n",
       "  <tbody>\n",
       "    <tr>\n",
       "      <th>2024-04-27</th>\n",
       "      <td>20.9</td>\n",
       "      <td>53</td>\n",
       "      <td>45313.70</td>\n",
       "      <td>20.6</td>\n",
       "      <td>20.6</td>\n",
       "    </tr>\n",
       "    <tr>\n",
       "      <th>2024-04-28</th>\n",
       "      <td>23.3</td>\n",
       "      <td>43</td>\n",
       "      <td>45416.67</td>\n",
       "      <td>11.9</td>\n",
       "      <td>11.9</td>\n",
       "    </tr>\n",
       "    <tr>\n",
       "      <th>2024-04-29</th>\n",
       "      <td>25.3</td>\n",
       "      <td>38</td>\n",
       "      <td>45518.78</td>\n",
       "      <td>12.7</td>\n",
       "      <td>12.7</td>\n",
       "    </tr>\n",
       "    <tr>\n",
       "      <th>2024-04-30</th>\n",
       "      <td>26.9</td>\n",
       "      <td>31</td>\n",
       "      <td>45619.94</td>\n",
       "      <td>25.9</td>\n",
       "      <td>25.9</td>\n",
       "    </tr>\n",
       "    <tr>\n",
       "      <th>2024-05-01</th>\n",
       "      <td>26.2</td>\n",
       "      <td>36</td>\n",
       "      <td>45720.07</td>\n",
       "      <td>20.8</td>\n",
       "      <td>20.8</td>\n",
       "    </tr>\n",
       "  </tbody>\n",
       "</table>\n",
       "</div>"
      ]
     },
     "execution_count": 1,
     "metadata": {},
     "output_type": "execute_result"
    }
   ],
   "execution_count": 1
  },
  {
   "metadata": {
    "ExecuteTime": {
     "end_time": "2024-09-17T00:12:28.591670Z",
     "start_time": "2024-09-17T00:12:28.563285Z"
    }
   },
   "cell_type": "code",
   "source": [
    "from src.trend_forecast.covariates import output_covariates_to_csv\n",
    "\n",
    "output_covariates_to_csv(df, '04', '2024-05-01')"
   ],
   "id": "7bb59a4ec1a8ade9",
   "outputs": [],
   "execution_count": 2
  },
  {
   "metadata": {},
   "cell_type": "code",
   "outputs": [],
   "execution_count": null,
   "source": "",
   "id": "61ddcf7840eb491c"
  }
 ],
 "metadata": {
  "kernelspec": {
   "display_name": "Python 3",
   "language": "python",
   "name": "python3"
  },
  "language_info": {
   "codemirror_mode": {
    "name": "ipython",
    "version": 2
   },
   "file_extension": ".py",
   "mimetype": "text/x-python",
   "name": "python",
   "nbconvert_exporter": "python",
   "pygments_lexer": "ipython2",
   "version": "2.7.6"
  }
 },
 "nbformat": 4,
 "nbformat_minor": 5
}
