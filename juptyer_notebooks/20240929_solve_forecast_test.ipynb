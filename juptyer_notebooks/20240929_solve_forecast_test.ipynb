{
 "cells": [
  {
   "cell_type": "code",
   "id": "initial_id",
   "metadata": {
    "collapsed": true,
    "ExecuteTime": {
     "end_time": "2024-10-06T22:06:02.026861Z",
     "start_time": "2024-10-06T22:06:01.414396Z"
    }
   },
   "source": [
    "from src.hosp_forecast import main_parallel\n",
    "from src import paths\n",
    "import os\n",
    "import pandas as pd\n",
    "import numpy as np"
   ],
   "outputs": [],
   "execution_count": 1
  },
  {
   "metadata": {
    "ExecuteTime": {
     "end_time": "2024-10-06T22:06:02.061662Z",
     "start_time": "2024-10-06T22:06:02.029149Z"
    }
   },
   "cell_type": "code",
   "source": [
    "beta_forecast_path = os.path.join(\n",
    "    paths.OUTPUT_DIR, \"trend_forecast_test\", \"2023-12-09\", \"b_t_fct_boot.csv\"\n",
    ")\n",
    "forecasted_betas = pd.read_csv(beta_forecast_path)\n",
    "forecast_betas = forecasted_betas.to_numpy()\n",
    "forecast_betas = forecast_betas.T"
   ],
   "id": "5fd9ed3e9772af23",
   "outputs": [],
   "execution_count": 2
  },
  {
   "metadata": {
    "ExecuteTime": {
     "end_time": "2024-10-06T22:06:02.075748Z",
     "start_time": "2024-10-06T22:06:02.064554Z"
    }
   },
   "cell_type": "code",
   "source": "forecast_betas[0].shape",
   "id": "4c65b8df2a2ec412",
   "outputs": [
    {
     "data": {
      "text/plain": [
       "(28,)"
      ]
     },
     "execution_count": 3,
     "metadata": {},
     "output_type": "execute_result"
    }
   ],
   "execution_count": 3
  },
  {
   "metadata": {
    "ExecuteTime": {
     "end_time": "2024-10-06T22:06:02.458760Z",
     "start_time": "2024-10-06T22:06:02.078308Z"
    }
   },
   "cell_type": "code",
   "source": [
    "main_parallel.main(\n",
    "    forecasted_betas=forecast_betas,\n",
    "    location_code=\"04\",\n",
    "    reference_date=\"2023-12-09\",\n",
    "    use_nbinom=False,\n",
    ")"
   ],
   "id": "a84036c88b4e50b4",
   "outputs": [
    {
     "name": "stdout",
     "output_type": "stream",
     "text": [
      "Starting.\n",
      "[7.1063215e+06 2.3107966e+03 4.2737125e+04 1.3256873e+02 9.4229688e+03]\n",
      "Data loaded.\n",
      "Number Bootstraps: 400\n",
      "All Forecasts Shape: (400, 5, 28)\n",
      "\n",
      "\n",
      "all_forecasts: (400, 28)\n"
     ]
    }
   ],
   "execution_count": 4
  },
  {
   "metadata": {
    "ExecuteTime": {
     "end_time": "2024-10-06T22:08:11.287766Z",
     "start_time": "2024-10-06T22:08:11.278020Z"
    }
   },
   "cell_type": "code",
   "source": [
    "forecast_file_path = os.path.join(paths.HOSP_OUTPUT_DIR, '2023-12-09', '04-PMCMC-flu-predictions.csv')\n",
    "forecast_df = pd.read_csv(forecast_file_path)"
   ],
   "id": "a17c948195e63160",
   "outputs": [],
   "execution_count": 7
  },
  {
   "metadata": {
    "ExecuteTime": {
     "end_time": "2024-10-06T22:08:15.433213Z",
     "start_time": "2024-10-06T22:08:15.364420Z"
    }
   },
   "cell_type": "code",
   "source": "forecast_df",
   "id": "1764eeb33fd3ef25",
   "outputs": [
    {
     "data": {
      "text/plain": [
       "   reference_date  horizon target_end_date  location output_type  \\\n",
       "0      2023-12-09        4      2023-12-16         4    quantile   \n",
       "1      2023-12-09        4      2023-12-16         4    quantile   \n",
       "2      2023-12-09        4      2023-12-16         4    quantile   \n",
       "3      2023-12-09        4      2023-12-16         4    quantile   \n",
       "4      2023-12-09        4      2023-12-16         4    quantile   \n",
       "..            ...      ...             ...       ...         ...   \n",
       "87     2023-12-09        1      2024-01-06         4    quantile   \n",
       "88     2023-12-09        1      2024-01-06         4    quantile   \n",
       "89     2023-12-09        1      2024-01-06         4    quantile   \n",
       "90     2023-12-09        1      2024-01-06         4    quantile   \n",
       "91     2023-12-09        1      2024-01-06         4    quantile   \n",
       "\n",
       "    output_type_id  value  \n",
       "0            0.010    131  \n",
       "1            0.025    135  \n",
       "2            0.050    137  \n",
       "3            0.100    140  \n",
       "4            0.150    141  \n",
       "..             ...    ...  \n",
       "87           0.850    142  \n",
       "88           0.900    142  \n",
       "89           0.950    143  \n",
       "90           0.975    144  \n",
       "91           0.990    144  \n",
       "\n",
       "[92 rows x 7 columns]"
      ],
      "text/html": [
       "<div>\n",
       "<style scoped>\n",
       "    .dataframe tbody tr th:only-of-type {\n",
       "        vertical-align: middle;\n",
       "    }\n",
       "\n",
       "    .dataframe tbody tr th {\n",
       "        vertical-align: top;\n",
       "    }\n",
       "\n",
       "    .dataframe thead th {\n",
       "        text-align: right;\n",
       "    }\n",
       "</style>\n",
       "<table border=\"1\" class=\"dataframe\">\n",
       "  <thead>\n",
       "    <tr style=\"text-align: right;\">\n",
       "      <th></th>\n",
       "      <th>reference_date</th>\n",
       "      <th>horizon</th>\n",
       "      <th>target_end_date</th>\n",
       "      <th>location</th>\n",
       "      <th>output_type</th>\n",
       "      <th>output_type_id</th>\n",
       "      <th>value</th>\n",
       "    </tr>\n",
       "  </thead>\n",
       "  <tbody>\n",
       "    <tr>\n",
       "      <th>0</th>\n",
       "      <td>2023-12-09</td>\n",
       "      <td>4</td>\n",
       "      <td>2023-12-16</td>\n",
       "      <td>4</td>\n",
       "      <td>quantile</td>\n",
       "      <td>0.010</td>\n",
       "      <td>131</td>\n",
       "    </tr>\n",
       "    <tr>\n",
       "      <th>1</th>\n",
       "      <td>2023-12-09</td>\n",
       "      <td>4</td>\n",
       "      <td>2023-12-16</td>\n",
       "      <td>4</td>\n",
       "      <td>quantile</td>\n",
       "      <td>0.025</td>\n",
       "      <td>135</td>\n",
       "    </tr>\n",
       "    <tr>\n",
       "      <th>2</th>\n",
       "      <td>2023-12-09</td>\n",
       "      <td>4</td>\n",
       "      <td>2023-12-16</td>\n",
       "      <td>4</td>\n",
       "      <td>quantile</td>\n",
       "      <td>0.050</td>\n",
       "      <td>137</td>\n",
       "    </tr>\n",
       "    <tr>\n",
       "      <th>3</th>\n",
       "      <td>2023-12-09</td>\n",
       "      <td>4</td>\n",
       "      <td>2023-12-16</td>\n",
       "      <td>4</td>\n",
       "      <td>quantile</td>\n",
       "      <td>0.100</td>\n",
       "      <td>140</td>\n",
       "    </tr>\n",
       "    <tr>\n",
       "      <th>4</th>\n",
       "      <td>2023-12-09</td>\n",
       "      <td>4</td>\n",
       "      <td>2023-12-16</td>\n",
       "      <td>4</td>\n",
       "      <td>quantile</td>\n",
       "      <td>0.150</td>\n",
       "      <td>141</td>\n",
       "    </tr>\n",
       "    <tr>\n",
       "      <th>...</th>\n",
       "      <td>...</td>\n",
       "      <td>...</td>\n",
       "      <td>...</td>\n",
       "      <td>...</td>\n",
       "      <td>...</td>\n",
       "      <td>...</td>\n",
       "      <td>...</td>\n",
       "    </tr>\n",
       "    <tr>\n",
       "      <th>87</th>\n",
       "      <td>2023-12-09</td>\n",
       "      <td>1</td>\n",
       "      <td>2024-01-06</td>\n",
       "      <td>4</td>\n",
       "      <td>quantile</td>\n",
       "      <td>0.850</td>\n",
       "      <td>142</td>\n",
       "    </tr>\n",
       "    <tr>\n",
       "      <th>88</th>\n",
       "      <td>2023-12-09</td>\n",
       "      <td>1</td>\n",
       "      <td>2024-01-06</td>\n",
       "      <td>4</td>\n",
       "      <td>quantile</td>\n",
       "      <td>0.900</td>\n",
       "      <td>142</td>\n",
       "    </tr>\n",
       "    <tr>\n",
       "      <th>89</th>\n",
       "      <td>2023-12-09</td>\n",
       "      <td>1</td>\n",
       "      <td>2024-01-06</td>\n",
       "      <td>4</td>\n",
       "      <td>quantile</td>\n",
       "      <td>0.950</td>\n",
       "      <td>143</td>\n",
       "    </tr>\n",
       "    <tr>\n",
       "      <th>90</th>\n",
       "      <td>2023-12-09</td>\n",
       "      <td>1</td>\n",
       "      <td>2024-01-06</td>\n",
       "      <td>4</td>\n",
       "      <td>quantile</td>\n",
       "      <td>0.975</td>\n",
       "      <td>144</td>\n",
       "    </tr>\n",
       "    <tr>\n",
       "      <th>91</th>\n",
       "      <td>2023-12-09</td>\n",
       "      <td>1</td>\n",
       "      <td>2024-01-06</td>\n",
       "      <td>4</td>\n",
       "      <td>quantile</td>\n",
       "      <td>0.990</td>\n",
       "      <td>144</td>\n",
       "    </tr>\n",
       "  </tbody>\n",
       "</table>\n",
       "<p>92 rows × 7 columns</p>\n",
       "</div>"
      ]
     },
     "execution_count": 8,
     "metadata": {},
     "output_type": "execute_result"
    }
   ],
   "execution_count": 8
  },
  {
   "metadata": {
    "ExecuteTime": {
     "end_time": "2024-10-06T22:19:15.311285Z",
     "start_time": "2024-10-06T22:19:15.304087Z"
    }
   },
   "cell_type": "code",
   "source": "target_dates = pd.read_csv('../datasets/target_dates.csv')",
   "id": "46022ec503d744e5",
   "outputs": [],
   "execution_count": 9
  },
  {
   "metadata": {
    "ExecuteTime": {
     "end_time": "2024-10-06T22:23:49.292161Z",
     "start_time": "2024-10-06T22:23:49.274321Z"
    }
   },
   "cell_type": "code",
   "source": [
    "dates = target_dates.to_numpy()\n",
    "dates[0][0]"
   ],
   "id": "3549fb10a7b5bb10",
   "outputs": [
    {
     "data": {
      "text/plain": [
       "'2023-10-14'"
      ]
     },
     "execution_count": 20,
     "metadata": {},
     "output_type": "execute_result"
    }
   ],
   "execution_count": 20
  },
  {
   "metadata": {
    "ExecuteTime": {
     "end_time": "2024-10-06T22:24:17.245693Z",
     "start_time": "2024-10-06T22:24:08.631305Z"
    }
   },
   "cell_type": "code",
   "source": [
    "# Generate forecasts for all dates\n",
    "# for the recent Trend Forecast test on Arizona\n",
    "\n",
    "for date in dates:\n",
    "    date = date[0]\n",
    "    beta_forecast_path = os.path.join(\n",
    "        paths.OUTPUT_DIR, \"trend_forecast_test\", date, \"b_t_fct_boot.csv\"\n",
    "    )\n",
    "    try:\n",
    "        forecasted_betas = pd.read_csv(beta_forecast_path)\n",
    "        forecast_betas = forecasted_betas.to_numpy()\n",
    "        forecast_betas = forecast_betas.T\n",
    "    except FileNotFoundError:\n",
    "        continue\n",
    "        \n",
    "    main_parallel.main(\n",
    "        forecasted_betas=forecast_betas,\n",
    "        location_code=\"04\",\n",
    "        reference_date=date,\n",
    "        use_nbinom=False,\n",
    "    ) "
   ],
   "id": "bd8bcebd1b9f335a",
   "outputs": [
    {
     "name": "stdout",
     "output_type": "stream",
     "text": [
      "Starting.\n",
      "[7.1063215e+06 2.3107966e+03 4.2737125e+04 1.3256873e+02 9.4229688e+03]\n",
      "Data loaded.\n",
      "Number Bootstraps: 400\n",
      "All Forecasts Shape: (400, 5, 28)\n",
      "\n",
      "\n",
      "all_forecasts: (400, 28)\n",
      "Starting.\n",
      "[7.1063215e+06 2.3107966e+03 4.2737125e+04 1.3256873e+02 9.4229688e+03]\n",
      "Data loaded.\n",
      "Number Bootstraps: 400\n",
      "All Forecasts Shape: (400, 5, 28)\n",
      "\n",
      "\n",
      "all_forecasts: (400, 28)\n",
      "Starting.\n",
      "[7.1063215e+06 2.3107966e+03 4.2737125e+04 1.3256873e+02 9.4229688e+03]\n",
      "Data loaded.\n",
      "Number Bootstraps: 400\n",
      "All Forecasts Shape: (400, 5, 28)\n",
      "\n",
      "\n",
      "all_forecasts: (400, 28)\n",
      "Starting.\n",
      "[7.1063215e+06 2.3107966e+03 4.2737125e+04 1.3256873e+02 9.4229688e+03]\n",
      "Data loaded.\n",
      "Number Bootstraps: 400\n",
      "All Forecasts Shape: (400, 5, 28)\n",
      "\n",
      "\n",
      "all_forecasts: (400, 28)\n",
      "Starting.\n",
      "[7.1063215e+06 2.3107966e+03 4.2737125e+04 1.3256873e+02 9.4229688e+03]\n",
      "Data loaded.\n",
      "Number Bootstraps: 400\n",
      "All Forecasts Shape: (400, 5, 28)\n",
      "\n",
      "\n",
      "all_forecasts: (400, 28)\n",
      "Starting.\n",
      "[7.1063215e+06 2.3107966e+03 4.2737125e+04 1.3256873e+02 9.4229688e+03]\n",
      "Data loaded.\n",
      "Number Bootstraps: 400\n",
      "All Forecasts Shape: (400, 5, 28)\n",
      "\n",
      "\n",
      "all_forecasts: (400, 28)\n",
      "Starting.\n",
      "[7.1063215e+06 2.3107966e+03 4.2737125e+04 1.3256873e+02 9.4229688e+03]\n",
      "Data loaded.\n",
      "Number Bootstraps: 400\n",
      "All Forecasts Shape: (400, 5, 28)\n",
      "\n",
      "\n",
      "all_forecasts: (400, 28)\n",
      "Starting.\n",
      "[7.1063215e+06 2.3107966e+03 4.2737125e+04 1.3256873e+02 9.4229688e+03]\n",
      "Data loaded.\n",
      "Number Bootstraps: 400\n",
      "All Forecasts Shape: (400, 5, 28)\n",
      "\n",
      "\n",
      "all_forecasts: (400, 28)\n",
      "Starting.\n",
      "[7.1063215e+06 2.3107966e+03 4.2737125e+04 1.3256873e+02 9.4229688e+03]\n",
      "Data loaded.\n",
      "Number Bootstraps: 400\n",
      "All Forecasts Shape: (400, 5, 28)\n",
      "\n",
      "\n",
      "all_forecasts: (400, 28)\n",
      "Starting.\n",
      "[7.1063215e+06 2.3107966e+03 4.2737125e+04 1.3256873e+02 9.4229688e+03]\n",
      "Data loaded.\n",
      "Number Bootstraps: 400\n",
      "All Forecasts Shape: (400, 5, 28)\n",
      "\n",
      "\n",
      "all_forecasts: (400, 28)\n",
      "Starting.\n",
      "[7.1063215e+06 2.3107966e+03 4.2737125e+04 1.3256873e+02 9.4229688e+03]\n",
      "Data loaded.\n",
      "Number Bootstraps: 400\n",
      "All Forecasts Shape: (400, 5, 28)\n",
      "\n",
      "\n",
      "all_forecasts: (400, 28)\n",
      "Starting.\n",
      "[7.1063215e+06 2.3107966e+03 4.2737125e+04 1.3256873e+02 9.4229688e+03]\n",
      "Data loaded.\n",
      "Number Bootstraps: 400\n",
      "All Forecasts Shape: (400, 5, 28)\n",
      "\n",
      "\n",
      "all_forecasts: (400, 28)\n",
      "Starting.\n",
      "[7.1063215e+06 2.3107966e+03 4.2737125e+04 1.3256873e+02 9.4229688e+03]\n",
      "Data loaded.\n",
      "Number Bootstraps: 400\n",
      "All Forecasts Shape: (400, 5, 28)\n",
      "\n",
      "\n",
      "all_forecasts: (400, 28)\n",
      "Starting.\n",
      "[7.1063215e+06 2.3107966e+03 4.2737125e+04 1.3256873e+02 9.4229688e+03]\n",
      "Data loaded.\n",
      "Number Bootstraps: 400\n",
      "All Forecasts Shape: (400, 5, 28)\n",
      "\n",
      "\n",
      "all_forecasts: (400, 28)\n",
      "Starting.\n",
      "[7.1063215e+06 2.3107966e+03 4.2737125e+04 1.3256873e+02 9.4229688e+03]\n",
      "Data loaded.\n",
      "Number Bootstraps: 400\n",
      "All Forecasts Shape: (400, 5, 28)\n",
      "\n",
      "\n",
      "all_forecasts: (400, 28)\n",
      "Starting.\n",
      "[7.1063215e+06 2.3107966e+03 4.2737125e+04 1.3256873e+02 9.4229688e+03]\n",
      "Data loaded.\n",
      "Number Bootstraps: 400\n",
      "All Forecasts Shape: (400, 5, 28)\n",
      "\n",
      "\n",
      "all_forecasts: (400, 28)\n",
      "Starting.\n",
      "[7.1063215e+06 2.3107966e+03 4.2737125e+04 1.3256873e+02 9.4229688e+03]\n",
      "Data loaded.\n",
      "Number Bootstraps: 400\n",
      "All Forecasts Shape: (400, 5, 28)\n",
      "\n",
      "\n",
      "all_forecasts: (400, 28)\n",
      "Starting.\n",
      "[7.1063215e+06 2.3107966e+03 4.2737125e+04 1.3256873e+02 9.4229688e+03]\n",
      "Data loaded.\n",
      "Number Bootstraps: 400\n",
      "All Forecasts Shape: (400, 5, 28)\n",
      "\n",
      "\n",
      "all_forecasts: (400, 28)\n",
      "Starting.\n",
      "[7.1063215e+06 2.3107966e+03 4.2737125e+04 1.3256873e+02 9.4229688e+03]\n",
      "Data loaded.\n",
      "Number Bootstraps: 400\n",
      "All Forecasts Shape: (400, 5, 28)\n",
      "\n",
      "\n",
      "all_forecasts: (400, 28)\n",
      "Starting.\n",
      "[7.1063215e+06 2.3107966e+03 4.2737125e+04 1.3256873e+02 9.4229688e+03]\n",
      "Data loaded.\n",
      "Number Bootstraps: 400\n",
      "All Forecasts Shape: (400, 5, 28)\n",
      "\n",
      "\n",
      "all_forecasts: (400, 28)\n"
     ]
    }
   ],
   "execution_count": 21
  },
  {
   "metadata": {},
   "cell_type": "code",
   "outputs": [],
   "execution_count": null,
   "source": "",
   "id": "ec45f08dd76461a2"
  }
 ],
 "metadata": {
  "kernelspec": {
   "display_name": "Python 3",
   "language": "python",
   "name": "python3"
  },
  "language_info": {
   "codemirror_mode": {
    "name": "ipython",
    "version": 2
   },
   "file_extension": ".py",
   "mimetype": "text/x-python",
   "name": "python",
   "nbconvert_exporter": "python",
   "pygments_lexer": "ipython2",
   "version": "2.7.6"
  }
 },
 "nbformat": 4,
 "nbformat_minor": 5
}
