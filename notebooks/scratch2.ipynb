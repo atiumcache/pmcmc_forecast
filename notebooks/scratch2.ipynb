{
 "cells": [
  {
   "cell_type": "code",
   "id": "initial_id",
   "metadata": {
    "collapsed": true,
    "ExecuteTime": {
     "end_time": "2024-11-03T20:06:36.094378Z",
     "start_time": "2024-11-03T20:06:35.667583Z"
    }
   },
   "source": [
    "import os\n",
    "import pandas as pd"
   ],
   "outputs": [],
   "execution_count": 1
  },
  {
   "metadata": {
    "ExecuteTime": {
     "end_time": "2024-11-03T20:06:36.104477Z",
     "start_time": "2024-11-03T20:06:36.096148Z"
    }
   },
   "cell_type": "code",
   "source": [
    "location_codes = pd.read_csv(\"../datasets/locations.csv\")\n",
    "location_codes = location_codes[\"location\"]"
   ],
   "id": "70de9f78264a206",
   "outputs": [],
   "execution_count": 2
  },
  {
   "metadata": {
    "ExecuteTime": {
     "end_time": "2024-11-03T20:06:36.124641Z",
     "start_time": "2024-11-03T20:06:36.106396Z"
    }
   },
   "cell_type": "code",
   "source": [
    "# Directory where you want to save the CSV files\n",
    "output_dir = \"../datasets/covariates\"\n",
    "\n",
    "# Create the directory if it doesn't exist\n",
    "os.makedirs(output_dir, exist_ok=True)\n",
    "\n",
    "# Loop through each location code and create an empty .csv file\n",
    "for loc_code in location_codes:\n",
    "    loc_code = str(loc_code).zfill(2)\n",
    "    file_path = os.path.join(output_dir, f\"{loc_code}.csv\")\n",
    "    with open(file_path, \"w\") as file:\n",
    "        file.write(\n",
    "            \"date,mean_temp,max_rel_humidity,sun_duration,wind_speed,swave_radiation,google_search\\n\"\n",
    "        )\n",
    "        file.write(\"2024-08-20, 0, 0, 0, 0, 0, 0\")\n",
    "\n",
    "print(\"Files created successfully!\")"
   ],
   "id": "b794ded67206b9ea",
   "outputs": [
    {
     "name": "stdout",
     "output_type": "stream",
     "text": [
      "Files created successfully!\n"
     ]
    }
   ],
   "execution_count": 3
  },
  {
   "metadata": {
    "ExecuteTime": {
     "end_time": "2024-11-03T20:06:42.078653Z",
     "start_time": "2024-11-03T20:06:36.126537Z"
    }
   },
   "cell_type": "code",
   "source": [
    "from src.trend_forecast.update_covariates import (\n",
    "    setup_covariate_logger,\n",
    "    update_covariate_data,\n",
    ")\n",
    "\n",
    "logger = setup_covariate_logger()\n",
    "update_covariate_data(file_path=\"../datasets/covariates/04.csv\", logger=logger)"
   ],
   "id": "57929490adececce",
   "outputs": [],
   "execution_count": 4
  },
  {
   "metadata": {
    "ExecuteTime": {
     "end_time": "2024-11-03T20:22:39.266667Z",
     "start_time": "2024-11-03T20:22:32.179428Z"
    }
   },
   "cell_type": "code",
   "source": [
    "from src.trend_forecast.update_covariates import update_all_covariate_data\n",
    "\n",
    "update_all_covariate_data()"
   ],
   "id": "e742b63a19f9adb1",
   "outputs": [
    {
     "data": {
      "text/plain": [
       "Updating covariate data:   0%|          | 0/52 [00:00<?, ?it/s]"
      ],
      "application/vnd.jupyter.widget-view+json": {
       "version_major": 2,
       "version_minor": 0,
       "model_id": "56ff440f21ba42a98bf76c2428256c06"
      }
     },
     "metadata": {},
     "output_type": "display_data"
    },
    {
     "name": "stdout",
     "output_type": "stream",
     "text": [
      "Data is already up to date for location 01\n",
      "Data is already up to date for location 02\n",
      "Data is already up to date for location 04\n",
      "Data is already up to date for location 05\n",
      "Data is already up to date for location 06\n",
      "Data is already up to date for location 08\n",
      "Data is already up to date for location 09\n",
      "Data is already up to date for location 10\n",
      "Data is already up to date for location 11\n",
      "Data is already up to date for location 12\n",
      "Data is already up to date for location 13\n",
      "Data is already up to date for location 15\n",
      "Data is already up to date for location 16\n",
      "Data is already up to date for location 17\n",
      "Data is already up to date for location 18\n",
      "Data is already up to date for location 19\n",
      "Data is already up to date for location 20\n",
      "Data is already up to date for location 21\n",
      "Data is already up to date for location 22\n",
      "Data is already up to date for location 23\n",
      "Data is already up to date for location 24\n",
      "Data is already up to date for location 25\n",
      "Data is already up to date for location 26\n",
      "Data is already up to date for location 27\n",
      "Data is already up to date for location 28\n",
      "Data is already up to date for location 29\n",
      "Data is already up to date for location 30\n",
      "Data is already up to date for location 31\n",
      "Data is already up to date for location 32\n",
      "Data is already up to date for location 33\n",
      "Data is already up to date for location 34\n",
      "Data is already up to date for location 35\n",
      "Data is already up to date for location 36\n",
      "Data is already up to date for location 37\n",
      "Data is already up to date for location 38\n",
      "Data is already up to date for location 39\n",
      "Data is already up to date for location 40\n",
      "Data is already up to date for location 41\n",
      "Data is already up to date for location 42\n",
      "Data is already up to date for location 44\n",
      "Data is already up to date for location 45\n",
      "Data is already up to date for location 46\n",
      "Data is already up to date for location 47\n",
      "Data is already up to date for location 48\n",
      "Data is already up to date for location 49\n",
      "Data is already up to date for location 50\n",
      "Data is already up to date for location 51\n",
      "Data is already up to date for location 53\n",
      "Data is already up to date for location 54\n",
      "Data is already up to date for location 55\n",
      "Data is already up to date for location 56\n"
     ]
    }
   ],
   "execution_count": 1
  },
  {
   "metadata": {
    "ExecuteTime": {
     "end_time": "2024-11-03T21:54:29.858918Z",
     "start_time": "2024-11-03T21:54:29.847470Z"
    }
   },
   "cell_type": "code",
   "source": [
    "import shutil\n",
    "import os\n",
    "from src.utils import paths\n",
    "\n",
    "\n",
    "def move_files(source_dir, target_dir, file_extension=None):\n",
    "    # Ensure the target directory exists\n",
    "    os.makedirs(target_dir, exist_ok=True)\n",
    "\n",
    "    # List all files in the source directory\n",
    "    for filename in os.listdir(source_dir):\n",
    "        # Optionally filter by file extension\n",
    "        if file_extension is None or filename.endswith(file_extension):\n",
    "            source_path = os.path.join(source_dir, filename)\n",
    "            target_path = os.path.join(target_dir, filename)\n",
    "\n",
    "            # Move the file\n",
    "            shutil.move(source_path, target_path)\n",
    "            print(f\"Moved: {source_path} -> {target_path}\")\n",
    "\n",
    "\n",
    "# Usage example\n",
    "source_directory = os.path.join(paths.DATASETS_DIR, \"covariates\")\n",
    "target_directory = os.path.join(paths.DATASETS_DIR, \"covariates\", \"database\")\n",
    "move_files(source_directory, target_directory, file_extension=\".csv\")"
   ],
   "id": "51ea3246c24a0713",
   "outputs": [
    {
     "name": "stdout",
     "output_type": "stream",
     "text": [
      "Moved: /home/andrew/PycharmProjects/pmcmc_forecast/datasets/covariates/01.csv -> /home/andrew/PycharmProjects/pmcmc_forecast/datasets/covariates/database/01.csv\n",
      "Moved: /home/andrew/PycharmProjects/pmcmc_forecast/datasets/covariates/02.csv -> /home/andrew/PycharmProjects/pmcmc_forecast/datasets/covariates/database/02.csv\n",
      "Moved: /home/andrew/PycharmProjects/pmcmc_forecast/datasets/covariates/04.csv -> /home/andrew/PycharmProjects/pmcmc_forecast/datasets/covariates/database/04.csv\n",
      "Moved: /home/andrew/PycharmProjects/pmcmc_forecast/datasets/covariates/05.csv -> /home/andrew/PycharmProjects/pmcmc_forecast/datasets/covariates/database/05.csv\n",
      "Moved: /home/andrew/PycharmProjects/pmcmc_forecast/datasets/covariates/06.csv -> /home/andrew/PycharmProjects/pmcmc_forecast/datasets/covariates/database/06.csv\n",
      "Moved: /home/andrew/PycharmProjects/pmcmc_forecast/datasets/covariates/08.csv -> /home/andrew/PycharmProjects/pmcmc_forecast/datasets/covariates/database/08.csv\n",
      "Moved: /home/andrew/PycharmProjects/pmcmc_forecast/datasets/covariates/09.csv -> /home/andrew/PycharmProjects/pmcmc_forecast/datasets/covariates/database/09.csv\n",
      "Moved: /home/andrew/PycharmProjects/pmcmc_forecast/datasets/covariates/10.csv -> /home/andrew/PycharmProjects/pmcmc_forecast/datasets/covariates/database/10.csv\n",
      "Moved: /home/andrew/PycharmProjects/pmcmc_forecast/datasets/covariates/11.csv -> /home/andrew/PycharmProjects/pmcmc_forecast/datasets/covariates/database/11.csv\n",
      "Moved: /home/andrew/PycharmProjects/pmcmc_forecast/datasets/covariates/12.csv -> /home/andrew/PycharmProjects/pmcmc_forecast/datasets/covariates/database/12.csv\n",
      "Moved: /home/andrew/PycharmProjects/pmcmc_forecast/datasets/covariates/13.csv -> /home/andrew/PycharmProjects/pmcmc_forecast/datasets/covariates/database/13.csv\n",
      "Moved: /home/andrew/PycharmProjects/pmcmc_forecast/datasets/covariates/15.csv -> /home/andrew/PycharmProjects/pmcmc_forecast/datasets/covariates/database/15.csv\n",
      "Moved: /home/andrew/PycharmProjects/pmcmc_forecast/datasets/covariates/16.csv -> /home/andrew/PycharmProjects/pmcmc_forecast/datasets/covariates/database/16.csv\n",
      "Moved: /home/andrew/PycharmProjects/pmcmc_forecast/datasets/covariates/17.csv -> /home/andrew/PycharmProjects/pmcmc_forecast/datasets/covariates/database/17.csv\n",
      "Moved: /home/andrew/PycharmProjects/pmcmc_forecast/datasets/covariates/18.csv -> /home/andrew/PycharmProjects/pmcmc_forecast/datasets/covariates/database/18.csv\n",
      "Moved: /home/andrew/PycharmProjects/pmcmc_forecast/datasets/covariates/19.csv -> /home/andrew/PycharmProjects/pmcmc_forecast/datasets/covariates/database/19.csv\n",
      "Moved: /home/andrew/PycharmProjects/pmcmc_forecast/datasets/covariates/20.csv -> /home/andrew/PycharmProjects/pmcmc_forecast/datasets/covariates/database/20.csv\n",
      "Moved: /home/andrew/PycharmProjects/pmcmc_forecast/datasets/covariates/21.csv -> /home/andrew/PycharmProjects/pmcmc_forecast/datasets/covariates/database/21.csv\n",
      "Moved: /home/andrew/PycharmProjects/pmcmc_forecast/datasets/covariates/22.csv -> /home/andrew/PycharmProjects/pmcmc_forecast/datasets/covariates/database/22.csv\n",
      "Moved: /home/andrew/PycharmProjects/pmcmc_forecast/datasets/covariates/23.csv -> /home/andrew/PycharmProjects/pmcmc_forecast/datasets/covariates/database/23.csv\n",
      "Moved: /home/andrew/PycharmProjects/pmcmc_forecast/datasets/covariates/24.csv -> /home/andrew/PycharmProjects/pmcmc_forecast/datasets/covariates/database/24.csv\n",
      "Moved: /home/andrew/PycharmProjects/pmcmc_forecast/datasets/covariates/25.csv -> /home/andrew/PycharmProjects/pmcmc_forecast/datasets/covariates/database/25.csv\n",
      "Moved: /home/andrew/PycharmProjects/pmcmc_forecast/datasets/covariates/26.csv -> /home/andrew/PycharmProjects/pmcmc_forecast/datasets/covariates/database/26.csv\n",
      "Moved: /home/andrew/PycharmProjects/pmcmc_forecast/datasets/covariates/27.csv -> /home/andrew/PycharmProjects/pmcmc_forecast/datasets/covariates/database/27.csv\n",
      "Moved: /home/andrew/PycharmProjects/pmcmc_forecast/datasets/covariates/28.csv -> /home/andrew/PycharmProjects/pmcmc_forecast/datasets/covariates/database/28.csv\n",
      "Moved: /home/andrew/PycharmProjects/pmcmc_forecast/datasets/covariates/29.csv -> /home/andrew/PycharmProjects/pmcmc_forecast/datasets/covariates/database/29.csv\n",
      "Moved: /home/andrew/PycharmProjects/pmcmc_forecast/datasets/covariates/30.csv -> /home/andrew/PycharmProjects/pmcmc_forecast/datasets/covariates/database/30.csv\n",
      "Moved: /home/andrew/PycharmProjects/pmcmc_forecast/datasets/covariates/31.csv -> /home/andrew/PycharmProjects/pmcmc_forecast/datasets/covariates/database/31.csv\n",
      "Moved: /home/andrew/PycharmProjects/pmcmc_forecast/datasets/covariates/32.csv -> /home/andrew/PycharmProjects/pmcmc_forecast/datasets/covariates/database/32.csv\n",
      "Moved: /home/andrew/PycharmProjects/pmcmc_forecast/datasets/covariates/33.csv -> /home/andrew/PycharmProjects/pmcmc_forecast/datasets/covariates/database/33.csv\n",
      "Moved: /home/andrew/PycharmProjects/pmcmc_forecast/datasets/covariates/34.csv -> /home/andrew/PycharmProjects/pmcmc_forecast/datasets/covariates/database/34.csv\n",
      "Moved: /home/andrew/PycharmProjects/pmcmc_forecast/datasets/covariates/35.csv -> /home/andrew/PycharmProjects/pmcmc_forecast/datasets/covariates/database/35.csv\n",
      "Moved: /home/andrew/PycharmProjects/pmcmc_forecast/datasets/covariates/36.csv -> /home/andrew/PycharmProjects/pmcmc_forecast/datasets/covariates/database/36.csv\n",
      "Moved: /home/andrew/PycharmProjects/pmcmc_forecast/datasets/covariates/37.csv -> /home/andrew/PycharmProjects/pmcmc_forecast/datasets/covariates/database/37.csv\n",
      "Moved: /home/andrew/PycharmProjects/pmcmc_forecast/datasets/covariates/38.csv -> /home/andrew/PycharmProjects/pmcmc_forecast/datasets/covariates/database/38.csv\n",
      "Moved: /home/andrew/PycharmProjects/pmcmc_forecast/datasets/covariates/39.csv -> /home/andrew/PycharmProjects/pmcmc_forecast/datasets/covariates/database/39.csv\n",
      "Moved: /home/andrew/PycharmProjects/pmcmc_forecast/datasets/covariates/40.csv -> /home/andrew/PycharmProjects/pmcmc_forecast/datasets/covariates/database/40.csv\n",
      "Moved: /home/andrew/PycharmProjects/pmcmc_forecast/datasets/covariates/41.csv -> /home/andrew/PycharmProjects/pmcmc_forecast/datasets/covariates/database/41.csv\n",
      "Moved: /home/andrew/PycharmProjects/pmcmc_forecast/datasets/covariates/42.csv -> /home/andrew/PycharmProjects/pmcmc_forecast/datasets/covariates/database/42.csv\n",
      "Moved: /home/andrew/PycharmProjects/pmcmc_forecast/datasets/covariates/44.csv -> /home/andrew/PycharmProjects/pmcmc_forecast/datasets/covariates/database/44.csv\n",
      "Moved: /home/andrew/PycharmProjects/pmcmc_forecast/datasets/covariates/45.csv -> /home/andrew/PycharmProjects/pmcmc_forecast/datasets/covariates/database/45.csv\n",
      "Moved: /home/andrew/PycharmProjects/pmcmc_forecast/datasets/covariates/46.csv -> /home/andrew/PycharmProjects/pmcmc_forecast/datasets/covariates/database/46.csv\n",
      "Moved: /home/andrew/PycharmProjects/pmcmc_forecast/datasets/covariates/47.csv -> /home/andrew/PycharmProjects/pmcmc_forecast/datasets/covariates/database/47.csv\n",
      "Moved: /home/andrew/PycharmProjects/pmcmc_forecast/datasets/covariates/48.csv -> /home/andrew/PycharmProjects/pmcmc_forecast/datasets/covariates/database/48.csv\n",
      "Moved: /home/andrew/PycharmProjects/pmcmc_forecast/datasets/covariates/49.csv -> /home/andrew/PycharmProjects/pmcmc_forecast/datasets/covariates/database/49.csv\n",
      "Moved: /home/andrew/PycharmProjects/pmcmc_forecast/datasets/covariates/50.csv -> /home/andrew/PycharmProjects/pmcmc_forecast/datasets/covariates/database/50.csv\n",
      "Moved: /home/andrew/PycharmProjects/pmcmc_forecast/datasets/covariates/51.csv -> /home/andrew/PycharmProjects/pmcmc_forecast/datasets/covariates/database/51.csv\n",
      "Moved: /home/andrew/PycharmProjects/pmcmc_forecast/datasets/covariates/53.csv -> /home/andrew/PycharmProjects/pmcmc_forecast/datasets/covariates/database/53.csv\n",
      "Moved: /home/andrew/PycharmProjects/pmcmc_forecast/datasets/covariates/54.csv -> /home/andrew/PycharmProjects/pmcmc_forecast/datasets/covariates/database/54.csv\n",
      "Moved: /home/andrew/PycharmProjects/pmcmc_forecast/datasets/covariates/55.csv -> /home/andrew/PycharmProjects/pmcmc_forecast/datasets/covariates/database/55.csv\n",
      "Moved: /home/andrew/PycharmProjects/pmcmc_forecast/datasets/covariates/56.csv -> /home/andrew/PycharmProjects/pmcmc_forecast/datasets/covariates/database/56.csv\n",
      "Moved: /home/andrew/PycharmProjects/pmcmc_forecast/datasets/covariates/72.csv -> /home/andrew/PycharmProjects/pmcmc_forecast/datasets/covariates/database/72.csv\n"
     ]
    }
   ],
   "execution_count": 1
  },
  {
   "metadata": {
    "ExecuteTime": {
     "end_time": "2024-11-03T22:50:05.403141Z",
     "start_time": "2024-11-03T22:50:04.389693Z"
    }
   },
   "cell_type": "code",
   "source": [
    "from src.trend_forecast.update_covariates import generate_single_covariate_csv_files\n",
    "import os \n",
    "from src.utils import paths\n",
    "\n",
    "file_path = os.path.join(paths.DATASETS_DIR, \"covariates\", \"database\", \"04.csv\")\n",
    "generate_single_covariate_csv_files('10-28-2024', 50, file_path)"
   ],
   "id": "9fdfa0eae5601b7f",
   "outputs": [],
   "execution_count": 1
  },
  {
   "metadata": {
    "ExecuteTime": {
     "end_time": "2024-11-03T22:58:27.657070Z",
     "start_time": "2024-11-03T22:58:26.230129Z"
    }
   },
   "cell_type": "code",
   "source": [
    "from src.trend_forecast.update_covariates import generate_all_covariate_csv_files\n",
    "\n",
    "generate_all_covariate_csv_files('10-28-2024', 50)"
   ],
   "id": "8ea14c1e556f19c7",
   "outputs": [
    {
     "data": {
      "text/plain": [
       "  0%|          | 0/52 [00:00<?, ?it/s]"
      ],
      "application/vnd.jupyter.widget-view+json": {
       "version_major": 2,
       "version_minor": 0,
       "model_id": "c43aa564fb7142bcbfe5daf98336737b"
      }
     },
     "metadata": {},
     "output_type": "display_data"
    }
   ],
   "execution_count": 1
  },
  {
   "metadata": {},
   "cell_type": "code",
   "outputs": [],
   "execution_count": null,
   "source": "",
   "id": "bf1d38c3563ca829"
  }
 ],
 "metadata": {
  "kernelspec": {
   "display_name": "Python 3",
   "language": "python",
   "name": "python3"
  },
  "language_info": {
   "codemirror_mode": {
    "name": "ipython",
    "version": 2
   },
   "file_extension": ".py",
   "mimetype": "text/x-python",
   "name": "python",
   "nbconvert_exporter": "python",
   "pygments_lexer": "ipython2",
   "version": "2.7.6"
  }
 },
 "nbformat": 4,
 "nbformat_minor": 5
}
