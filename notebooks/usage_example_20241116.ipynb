{
 "cells": [
  {
   "metadata": {},
   "cell_type": "markdown",
   "source": [
    "## FluSight Forecast Usage and Examples\n",
    "#### Andrew Attilio\n",
    "#### 2024-11-16"
   ],
   "id": "ff5a511f7ecc8aea"
  },
  {
   "metadata": {},
   "cell_type": "markdown",
   "source": [
    "### Quick Facts\n",
    "The Flusight Forecast pipeline is partially constructed in:\n",
    "- `src/scripts/flusight_forecast.py\n",
    "\n",
    "And an example of a now-deprecated,\n",
    " pipeline can be found in:\n",
    "- `src/scripts/forecast_all_states_deprecated.py\n",
    "\n",
    "To generate 52 shell scripts for the 52 locations\n",
    "(where each script would trigger a flusight pipeline for that location)\n",
    "see:\n",
    "- `src/scripts/generate_shell_scripts.py\n",
    "\n",
    "For quick access to relevant directory paths, see the following example:"
   ],
   "id": "f5d8590b48de0063"
  },
  {
   "metadata": {
    "ExecuteTime": {
     "end_time": "2024-11-17T20:28:09.475755Z",
     "start_time": "2024-11-17T20:28:09.472275Z"
    }
   },
   "cell_type": "code",
   "source": [
    "# Example for accessing directory paths\n",
    "from src.utils import paths\n",
    "\n",
    "print(paths.DATASETS_DIR)\n",
    "print(paths.OUTPUT_DIR)\n",
    "print(paths.HOSP_FORECAST_DIR)"
   ],
   "id": "1ffce0d4cf272884",
   "outputs": [
    {
     "name": "stdout",
     "output_type": "stream",
     "text": [
      "/Users/macbook/projects/pmcmc_forecast/datasets\n",
      "/Users/macbook/projects/pmcmc_forecast/output\n",
      "/Users/macbook/projects/pmcmc_forecast/src/hosp_forecast\n"
     ]
    }
   ],
   "execution_count": 6
  },
  {
   "metadata": {},
   "cell_type": "markdown",
   "source": [
    "## Details for Each Component\n",
    "The functionality is split into 3 main components:\n",
    "- PMCMC \n",
    "- Trend Forecast\n",
    "- Hospital Forecast\n",
    "\n",
    "Let's explore one component at a time. \n"
   ],
   "id": "91e5bcaf6381607c"
  },
  {
   "metadata": {},
   "cell_type": "markdown",
   "source": [
    "### PMCMC \n",
    "The PMCMC module (see `src/pmcmc/`) allows us to take in CDC hospitalization data and estimate a transmission rate $\\beta$.\n",
    "We have a Particle Filter (PF) wrapped in an MCMC loop, where the MCMC proposes parameters for the PF.\n",
    "\n",
    "#### Config File\n",
    "Most settings for the PMCMC loop are configurable in `src/pmcmc/config.toml`.  \n",
    "\n",
    "#### Particle Filter\n",
    "The PF functionality is contained within a ParticleCloud class (see `/src/pmcmc/particle_cloud.py`). \n",
    "This ParticleCloud is wrapped in a PaticleFilterAlgo class (see `/src/pmcmc/filter_algo.py`).\n",
    "\n",
    "Let's take a look at the PF in action:"
   ],
   "id": "e53ad6d391b14fc3"
  },
  {
   "cell_type": "code",
   "execution_count": null,
   "id": "initial_id",
   "metadata": {
    "collapsed": true
   },
   "outputs": [],
   "source": [
    "from src.pmcmc import initialize_filter\n",
    "\n",
    "my_pf_algo = \n"
   ]
  },
  {
   "metadata": {},
   "cell_type": "markdown",
   "source": [
    "#### MCMC\n",
    "..."
   ],
   "id": "ae37c6afbdf9508c"
  },
  {
   "metadata": {},
   "cell_type": "code",
   "outputs": [],
   "execution_count": null,
   "source": [
    "# Example call for main pmcmc algo. \n",
    "from src.pmcmc import main as pmcmc\n",
    "\n",
    "location_code = '04'  # Arizona's code\n",
    "target_date = '2023-10-28'  # some date\n",
    "beta_estimates = pmcmc.main(location_code, target_date)"
   ],
   "id": "dc931171fe0a2559"
  },
  {
   "metadata": {},
   "cell_type": "markdown",
   "source": "These $\\beta$ estimates can then be passed into our Trend Forecasting algorithm. ",
   "id": "fb1f3ffbba826348"
  },
  {
   "metadata": {},
   "cell_type": "markdown",
   "source": [
    "### Trend Forecasting\n",
    "\n",
    "\n",
    "Note that the Trend Forecasting algorithm relies on the use of covariate data. \n",
    "\n",
    "See `src/trend_forecast/update_covariates.py` for "
   ],
   "id": "3eb8e728bb477a2a"
  },
  {
   "metadata": {},
   "cell_type": "code",
   "outputs": [],
   "execution_count": null,
   "source": [
    "# Example call for main trend forecast algo.\n",
    "from src.trend_forecast.main import main as tf\n",
    "\n",
    "beta_forecasts = tf(beta_estimates, location_code, target_date)"
   ],
   "id": "b7f8bc9bf8ed6def"
  },
  {
   "metadata": {},
   "cell_type": "markdown",
   "source": "Now, these $\\beta$ forecasts can be passed into our hospital forecast algorithm to solve the SIRH system and produce hospitalization forecasts.",
   "id": "f236b0b98c08023c"
  },
  {
   "metadata": {},
   "cell_type": "markdown",
   "source": [
    "### Hospital Forecasting\n",
    "..."
   ],
   "id": "b4189e1b42030c8f"
  },
  {
   "metadata": {},
   "cell_type": "code",
   "outputs": [],
   "execution_count": null,
   "source": "",
   "id": "59aae99a5a7d0fb8"
  },
  {
   "metadata": {},
   "cell_type": "markdown",
   "source": [
    "##Potential Issues / Improvements\n",
    "\n",
    "- Currently, the MCMC prior is hard-coded as uniform. See the `get_prior()` function in `src/pmcmc/main.py`.\n",
    "- \n"
   ],
   "id": "aac7ee3633c93576"
  }
 ],
 "metadata": {
  "kernelspec": {
   "display_name": "Python 3",
   "language": "python",
   "name": "python3"
  },
  "language_info": {
   "codemirror_mode": {
    "name": "ipython",
    "version": 2
   },
   "file_extension": ".py",
   "mimetype": "text/x-python",
   "name": "python",
   "nbconvert_exporter": "python",
   "pygments_lexer": "ipython2",
   "version": "2.7.6"
  }
 },
 "nbformat": 4,
 "nbformat_minor": 5
}
