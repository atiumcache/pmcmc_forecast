{
 "cells": [
  {
   "metadata": {},
   "cell_type": "markdown",
   "source": [
    "## Covariate Data\n",
    "We want to run the Trend Forecasting algorithm on more locations. \n",
    "\n",
    "So, we need to acquire covariate data for each location. "
   ],
   "id": "43def8cd88074d94"
  },
  {
   "cell_type": "code",
   "id": "68ec6252057221b6",
   "metadata": {
    "collapsed": true,
    "ExecuteTime": {
     "end_time": "2024-10-13T20:26:12.257563Z",
     "start_time": "2024-10-13T20:26:11.543187Z"
    }
   },
   "source": [
    "from src.trend_forecast.covariates import (\n",
    "    get_covariate_data,\n",
    "    CovariateSelection,\n",
    "    output_covariates_to_csv,\n",
    ")\n",
    "import pandas as pd"
   ],
   "outputs": [],
   "execution_count": 1
  },
  {
   "metadata": {
    "ExecuteTime": {
     "end_time": "2024-10-13T20:26:12.270824Z",
     "start_time": "2024-10-13T20:26:12.260505Z"
    }
   },
   "cell_type": "code",
   "source": [
    "target_dates = pd.read_csv(\"../datasets/target_dates.csv\")\n",
    "\n",
    "selected_covariates = CovariateSelection(\n",
    "    mean_temp=True,\n",
    "    max_rel_humidity=True,\n",
    "    sun_duration=True,\n",
    "    wind_speed=True,\n",
    "    radiation=True,\n",
    "    google_search=True,\n",
    "    movement=False,\n",
    ")"
   ],
   "id": "b50f94e8b4306240",
   "outputs": [],
   "execution_count": 2
  },
  {
   "metadata": {
    "ExecuteTime": {
     "end_time": "2024-10-13T20:26:15.751291Z",
     "start_time": "2024-10-13T20:26:15.736352Z"
    }
   },
   "cell_type": "code",
   "source": [
    "def one_date_covariate(target_date, loc_code):\n",
    "    print(f\"{loc_code}: Getting date\", target_date)\n",
    "    df = get_covariate_data(\n",
    "        covariates=selected_covariates,\n",
    "        loc_code=loc_code,\n",
    "        target_date=target_date,\n",
    "        series_length=50,\n",
    "    )\n",
    "    df.insert(0, \"time_0\", range(len(df)))\n",
    "    output_covariates_to_csv(df, loc_code, target_date)"
   ],
   "id": "e927f10fe14701f1",
   "outputs": [],
   "execution_count": 3
  },
  {
   "metadata": {
    "ExecuteTime": {
     "end_time": "2024-10-13T20:08:43.881507Z",
     "start_time": "2024-10-13T20:07:19.711313Z"
    }
   },
   "cell_type": "code",
   "source": [
    "# Test on California\n",
    "for date in target_dates['date']:\n",
    "    one_date_covariate(date, '06')"
   ],
   "id": "ad2bebcfa15354ba",
   "outputs": [
    {
     "name": "stdout",
     "output_type": "stream",
     "text": [
      "06: Getting date 2023-10-14\n",
      "06: Getting date 2023-10-21\n",
      "06: Getting date 2023-10-28\n",
      "06: Getting date 2023-11-04\n",
      "06: Getting date 2023-11-11\n",
      "06: Getting date 2023-11-18\n",
      "06: Getting date 2023-11-25\n",
      "06: Getting date 2023-12-02\n",
      "06: Getting date 2023-12-09\n",
      "06: Getting date 2023-12-16\n",
      "06: Getting date 2023-12-23\n",
      "06: Getting date 2023-12-30\n",
      "06: Getting date 2024-01-06\n",
      "06: Getting date 2024-01-13\n",
      "06: Getting date 2024-01-20\n",
      "06: Getting date 2024-01-27\n",
      "06: Getting date 2024-02-03\n",
      "06: Getting date 2024-02-10\n",
      "06: Getting date 2024-02-17\n",
      "06: Getting date 2024-02-24\n",
      "06: Getting date 2024-03-02\n",
      "06: Getting date 2024-03-09\n",
      "06: Getting date 2024-03-16\n",
      "06: Getting date 2024-03-23\n",
      "06: Getting date 2024-03-30\n",
      "06: Getting date 2024-04-06\n",
      "06: Getting date 2024-04-13\n"
     ]
    }
   ],
   "execution_count": 9
  },
  {
   "metadata": {
    "ExecuteTime": {
     "end_time": "2024-10-13T20:10:39.696884Z",
     "start_time": "2024-10-13T20:10:32.855229Z"
    }
   },
   "cell_type": "code",
   "source": [
    "one_date_covariate('2024-04-20', '06')\n",
    "one_date_covariate('2024-04-27', '06')"
   ],
   "id": "9a49d78cc7282221",
   "outputs": [
    {
     "name": "stdout",
     "output_type": "stream",
     "text": [
      "06: Getting date 2024-04-20\n",
      "06: Getting date 2024-04-27\n"
     ]
    }
   ],
   "execution_count": 10
  },
  {
   "metadata": {
    "ExecuteTime": {
     "end_time": "2024-10-13T20:14:58.285754Z",
     "start_time": "2024-10-13T20:14:16.430563Z"
    }
   },
   "cell_type": "code",
   "source": [
    "# Forgot Google Search covariate for California.\n",
    "# Adding it on.\n",
    "\n",
    "import os\n",
    "from src.trend_forecast.covariate_getters import get_google_search\n",
    "import glob\n",
    "import pandas as pd\n",
    "\n",
    "for file in glob.glob(\"../output/covariates/06/*.csv\"):\n",
    "    df = pd.read_csv(file)\n",
    "    filename = os.path.basename(file)\n",
    "    date = filename.replace(\".csv\", \"\")\n",
    "    print(date)\n",
    "    df[\"google_search\"] = get_google_search(\"04\", 'flu symptoms', date, 50).to_numpy()\n",
    "    df.to_csv(file, index=False)"
   ],
   "id": "865ea5aeecf687ad",
   "outputs": [
    {
     "name": "stdout",
     "output_type": "stream",
     "text": [
      "2023-10-14\n",
      "2023-10-21\n",
      "2023-10-28\n",
      "2023-11-04\n",
      "2023-11-11\n",
      "2023-11-18\n",
      "2023-11-25\n",
      "2023-12-02\n",
      "2023-12-09\n",
      "2023-12-16\n",
      "2023-12-23\n",
      "2023-12-30\n",
      "2024-01-06\n",
      "2024-01-13\n",
      "2024-01-20\n",
      "2024-01-27\n",
      "2024-02-03\n",
      "2024-02-10\n",
      "2024-02-17\n",
      "2024-02-24\n",
      "2024-03-02\n",
      "2024-03-09\n",
      "2024-03-16\n",
      "2024-03-23\n",
      "2024-03-30\n",
      "2024-04-06\n",
      "2024-04-13\n",
      "2024-04-20\n",
      "2024-04-27\n"
     ]
    }
   ],
   "execution_count": 16
  },
  {
   "metadata": {
    "ExecuteTime": {
     "end_time": "2024-10-13T20:32:50.284195Z",
     "start_time": "2024-10-13T20:26:19.333878Z"
    }
   },
   "cell_type": "code",
   "source": [
    "# Acquire covariate data for the following locations:\n",
    "# Colorado, New York, Tennessee, Wyoming\n",
    "for loc_code in ['08', '36', '47', '56']:\n",
    "    for date in target_dates['date']:\n",
    "        one_date_covariate(date, loc_code)"
   ],
   "id": "initial_id",
   "outputs": [
    {
     "name": "stdout",
     "output_type": "stream",
     "text": [
      "08: Getting date 2023-10-14\n",
      "(50,)\n",
      "08: Getting date 2023-10-21\n",
      "(50,)\n",
      "08: Getting date 2023-10-28\n",
      "(50,)\n",
      "08: Getting date 2023-11-04\n",
      "(50,)\n",
      "08: Getting date 2023-11-11\n",
      "(50,)\n",
      "08: Getting date 2023-11-18\n",
      "(50,)\n",
      "08: Getting date 2023-11-25\n",
      "(50,)\n",
      "08: Getting date 2023-12-02\n",
      "(50,)\n",
      "08: Getting date 2023-12-09\n",
      "(50,)\n",
      "08: Getting date 2023-12-16\n",
      "(50,)\n",
      "08: Getting date 2023-12-23\n",
      "(50,)\n",
      "08: Getting date 2023-12-30\n",
      "(50,)\n",
      "08: Getting date 2024-01-06\n",
      "(50,)\n",
      "08: Getting date 2024-01-13\n",
      "(50,)\n",
      "08: Getting date 2024-01-20\n",
      "(50,)\n",
      "08: Getting date 2024-01-27\n",
      "(50,)\n",
      "08: Getting date 2024-02-03\n",
      "(50,)\n",
      "08: Getting date 2024-02-10\n",
      "(50,)\n",
      "08: Getting date 2024-02-17\n",
      "(50,)\n",
      "08: Getting date 2024-02-24\n",
      "(50,)\n",
      "08: Getting date 2024-03-02\n",
      "(50,)\n",
      "08: Getting date 2024-03-09\n",
      "(50,)\n",
      "08: Getting date 2024-03-16\n",
      "(50,)\n",
      "08: Getting date 2024-03-23\n",
      "(50,)\n",
      "08: Getting date 2024-03-30\n",
      "(50,)\n",
      "08: Getting date 2024-04-06\n",
      "(50,)\n",
      "08: Getting date 2024-04-13\n",
      "(50,)\n",
      "08: Getting date 2024-04-20\n",
      "(50,)\n",
      "08: Getting date 2024-04-27\n",
      "(50,)\n",
      "36: Getting date 2023-10-14\n",
      "(50,)\n",
      "36: Getting date 2023-10-21\n",
      "(50,)\n",
      "36: Getting date 2023-10-28\n",
      "(50,)\n",
      "36: Getting date 2023-11-04\n",
      "(50,)\n",
      "36: Getting date 2023-11-11\n",
      "(50,)\n",
      "36: Getting date 2023-11-18\n",
      "(50,)\n",
      "36: Getting date 2023-11-25\n",
      "(50,)\n",
      "36: Getting date 2023-12-02\n",
      "(50,)\n",
      "36: Getting date 2023-12-09\n",
      "(50,)\n",
      "36: Getting date 2023-12-16\n",
      "(50,)\n",
      "36: Getting date 2023-12-23\n",
      "(50,)\n",
      "36: Getting date 2023-12-30\n",
      "(50,)\n",
      "36: Getting date 2024-01-06\n",
      "(50,)\n",
      "36: Getting date 2024-01-13\n",
      "(50,)\n",
      "36: Getting date 2024-01-20\n",
      "(50,)\n",
      "36: Getting date 2024-01-27\n",
      "(50,)\n",
      "36: Getting date 2024-02-03\n",
      "(50,)\n",
      "36: Getting date 2024-02-10\n",
      "(50,)\n",
      "36: Getting date 2024-02-17\n",
      "(50,)\n",
      "36: Getting date 2024-02-24\n",
      "(50,)\n",
      "36: Getting date 2024-03-02\n",
      "(50,)\n",
      "36: Getting date 2024-03-09\n",
      "(50,)\n",
      "36: Getting date 2024-03-16\n",
      "(50,)\n",
      "36: Getting date 2024-03-23\n",
      "(50,)\n",
      "36: Getting date 2024-03-30\n",
      "(50,)\n",
      "36: Getting date 2024-04-06\n",
      "(50,)\n",
      "36: Getting date 2024-04-13\n",
      "(50,)\n",
      "36: Getting date 2024-04-20\n",
      "(50,)\n",
      "36: Getting date 2024-04-27\n",
      "(50,)\n",
      "47: Getting date 2023-10-14\n",
      "(50,)\n",
      "47: Getting date 2023-10-21\n",
      "(50,)\n",
      "47: Getting date 2023-10-28\n",
      "(50,)\n",
      "47: Getting date 2023-11-04\n",
      "(50,)\n",
      "47: Getting date 2023-11-11\n",
      "(50,)\n",
      "47: Getting date 2023-11-18\n",
      "(50,)\n",
      "47: Getting date 2023-11-25\n",
      "(50,)\n",
      "47: Getting date 2023-12-02\n",
      "(50,)\n",
      "47: Getting date 2023-12-09\n",
      "(50,)\n",
      "47: Getting date 2023-12-16\n",
      "(50,)\n",
      "47: Getting date 2023-12-23\n",
      "(50,)\n",
      "47: Getting date 2023-12-30\n",
      "(50,)\n",
      "47: Getting date 2024-01-06\n",
      "(50,)\n",
      "47: Getting date 2024-01-13\n",
      "(50,)\n",
      "47: Getting date 2024-01-20\n",
      "(50,)\n",
      "47: Getting date 2024-01-27\n",
      "(50,)\n",
      "47: Getting date 2024-02-03\n",
      "(50,)\n",
      "47: Getting date 2024-02-10\n",
      "(50,)\n",
      "47: Getting date 2024-02-17\n",
      "(50,)\n",
      "47: Getting date 2024-02-24\n",
      "(50,)\n",
      "47: Getting date 2024-03-02\n",
      "(50,)\n",
      "47: Getting date 2024-03-09\n",
      "(50,)\n",
      "47: Getting date 2024-03-16\n",
      "(50,)\n",
      "47: Getting date 2024-03-23\n",
      "(50,)\n",
      "47: Getting date 2024-03-30\n",
      "(50,)\n",
      "47: Getting date 2024-04-06\n",
      "(50,)\n",
      "47: Getting date 2024-04-13\n",
      "(50,)\n",
      "47: Getting date 2024-04-20\n",
      "(50,)\n",
      "47: Getting date 2024-04-27\n",
      "(50,)\n",
      "56: Getting date 2023-10-14\n"
     ]
    },
    {
     "ename": "ValueError",
     "evalue": "Google Trends data failed for 56 from 2023-08-23 to 2023-10-11.",
     "output_type": "error",
     "traceback": [
      "\u001B[0;31m---------------------------------------------------------------------------\u001B[0m",
      "\u001B[0;31mValueError\u001B[0m                                Traceback (most recent call last)",
      "Cell \u001B[0;32mIn[4], line 5\u001B[0m\n\u001B[1;32m      3\u001B[0m \u001B[38;5;28;01mfor\u001B[39;00m loc_code \u001B[38;5;129;01min\u001B[39;00m [\u001B[38;5;124m'\u001B[39m\u001B[38;5;124m08\u001B[39m\u001B[38;5;124m'\u001B[39m, \u001B[38;5;124m'\u001B[39m\u001B[38;5;124m36\u001B[39m\u001B[38;5;124m'\u001B[39m, \u001B[38;5;124m'\u001B[39m\u001B[38;5;124m47\u001B[39m\u001B[38;5;124m'\u001B[39m, \u001B[38;5;124m'\u001B[39m\u001B[38;5;124m56\u001B[39m\u001B[38;5;124m'\u001B[39m]:\n\u001B[1;32m      4\u001B[0m     \u001B[38;5;28;01mfor\u001B[39;00m date \u001B[38;5;129;01min\u001B[39;00m target_dates[\u001B[38;5;124m'\u001B[39m\u001B[38;5;124mdate\u001B[39m\u001B[38;5;124m'\u001B[39m]:\n\u001B[0;32m----> 5\u001B[0m         \u001B[43mone_date_covariate\u001B[49m\u001B[43m(\u001B[49m\u001B[43mdate\u001B[49m\u001B[43m,\u001B[49m\u001B[43m \u001B[49m\u001B[43mloc_code\u001B[49m\u001B[43m)\u001B[49m\n",
      "Cell \u001B[0;32mIn[3], line 3\u001B[0m, in \u001B[0;36mone_date_covariate\u001B[0;34m(target_date, loc_code)\u001B[0m\n\u001B[1;32m      1\u001B[0m \u001B[38;5;28;01mdef\u001B[39;00m \u001B[38;5;21mone_date_covariate\u001B[39m(target_date, loc_code):\n\u001B[1;32m      2\u001B[0m     \u001B[38;5;28mprint\u001B[39m(\u001B[38;5;124mf\u001B[39m\u001B[38;5;124m\"\u001B[39m\u001B[38;5;132;01m{\u001B[39;00mloc_code\u001B[38;5;132;01m}\u001B[39;00m\u001B[38;5;124m: Getting date\u001B[39m\u001B[38;5;124m\"\u001B[39m, target_date)\n\u001B[0;32m----> 3\u001B[0m     df \u001B[38;5;241m=\u001B[39m \u001B[43mget_covariate_data\u001B[49m\u001B[43m(\u001B[49m\n\u001B[1;32m      4\u001B[0m \u001B[43m        \u001B[49m\u001B[43mcovariates\u001B[49m\u001B[38;5;241;43m=\u001B[39;49m\u001B[43mselected_covariates\u001B[49m\u001B[43m,\u001B[49m\n\u001B[1;32m      5\u001B[0m \u001B[43m        \u001B[49m\u001B[43mloc_code\u001B[49m\u001B[38;5;241;43m=\u001B[39;49m\u001B[43mloc_code\u001B[49m\u001B[43m,\u001B[49m\n\u001B[1;32m      6\u001B[0m \u001B[43m        \u001B[49m\u001B[43mtarget_date\u001B[49m\u001B[38;5;241;43m=\u001B[39;49m\u001B[43mtarget_date\u001B[49m\u001B[43m,\u001B[49m\n\u001B[1;32m      7\u001B[0m \u001B[43m        \u001B[49m\u001B[43mseries_length\u001B[49m\u001B[38;5;241;43m=\u001B[39;49m\u001B[38;5;241;43m50\u001B[39;49m\u001B[43m,\u001B[49m\n\u001B[1;32m      8\u001B[0m \u001B[43m    \u001B[49m\u001B[43m)\u001B[49m\n\u001B[1;32m      9\u001B[0m     df\u001B[38;5;241m.\u001B[39minsert(\u001B[38;5;241m0\u001B[39m, \u001B[38;5;124m\"\u001B[39m\u001B[38;5;124mtime_0\u001B[39m\u001B[38;5;124m\"\u001B[39m, \u001B[38;5;28mrange\u001B[39m(\u001B[38;5;28mlen\u001B[39m(df)))\n\u001B[1;32m     10\u001B[0m     output_covariates_to_csv(df, loc_code, target_date)\n",
      "File \u001B[0;32m~/PycharmProjects/pmcmc_forecast/src/trend_forecast/covariates.py:56\u001B[0m, in \u001B[0;36mget_covariate_data\u001B[0;34m(covariates, loc_code, target_date, series_length)\u001B[0m\n\u001B[1;32m     54\u001B[0m     data[\u001B[38;5;124m\"\u001B[39m\u001B[38;5;124mswave_radiation\u001B[39m\u001B[38;5;124m\"\u001B[39m] \u001B[38;5;241m=\u001B[39m get_radiation(loc_code, target_date, series_length)\n\u001B[1;32m     55\u001B[0m \u001B[38;5;28;01mif\u001B[39;00m covariates\u001B[38;5;241m.\u001B[39mgoogle_search:\n\u001B[0;32m---> 56\u001B[0m     data[\u001B[38;5;124m\"\u001B[39m\u001B[38;5;124mgoogle_search\u001B[39m\u001B[38;5;124m\"\u001B[39m] \u001B[38;5;241m=\u001B[39m \u001B[43mget_google_search\u001B[49m\u001B[43m(\u001B[49m\u001B[43mloc_code\u001B[49m\u001B[43m,\u001B[49m\u001B[43m \u001B[49m\u001B[38;5;124;43m'\u001B[39;49m\u001B[38;5;124;43mflu symptoms\u001B[39;49m\u001B[38;5;124;43m'\u001B[39;49m\u001B[43m,\u001B[49m\u001B[43m \u001B[49m\u001B[43mtarget_date\u001B[49m\u001B[43m,\u001B[49m\u001B[43m \u001B[49m\u001B[43mseries_length\u001B[49m\u001B[43m)\u001B[49m\u001B[38;5;241m.\u001B[39mto_numpy()\n\u001B[1;32m     57\u001B[0m     data[\u001B[38;5;124m'\u001B[39m\u001B[38;5;124mgoogle_search\u001B[39m\u001B[38;5;124m'\u001B[39m] \u001B[38;5;241m=\u001B[39m data[\u001B[38;5;124m'\u001B[39m\u001B[38;5;124mgoogle_search\u001B[39m\u001B[38;5;124m'\u001B[39m]\u001B[38;5;241m.\u001B[39mravel()\n\u001B[1;32m     58\u001B[0m     \u001B[38;5;28mprint\u001B[39m(data[\u001B[38;5;124m\"\u001B[39m\u001B[38;5;124mgoogle_search\u001B[39m\u001B[38;5;124m\"\u001B[39m]\u001B[38;5;241m.\u001B[39mshape)\n",
      "File \u001B[0;32m~/PycharmProjects/pmcmc_forecast/src/trend_forecast/covariate_getters.py:260\u001B[0m, in \u001B[0;36mget_google_search\u001B[0;34m(loc_code, search_term, target_date, series_length)\u001B[0m\n\u001B[1;32m    258\u001B[0m     \u001B[38;5;28;01mreturn\u001B[39;00m data\n\u001B[1;32m    259\u001B[0m \u001B[38;5;28;01melse\u001B[39;00m:\n\u001B[0;32m--> 260\u001B[0m     \u001B[38;5;28;01mraise\u001B[39;00m \u001B[38;5;167;01mValueError\u001B[39;00m(\n\u001B[1;32m    261\u001B[0m         \u001B[38;5;124mf\u001B[39m\u001B[38;5;124m\"\u001B[39m\u001B[38;5;124mGoogle Trends data failed for \u001B[39m\u001B[38;5;132;01m{\u001B[39;00mloc_code\u001B[38;5;132;01m}\u001B[39;00m\u001B[38;5;124m from \u001B[39m\u001B[38;5;132;01m{\u001B[39;00mstart_date\u001B[38;5;132;01m}\u001B[39;00m\u001B[38;5;124m to \u001B[39m\u001B[38;5;132;01m{\u001B[39;00mend_date\u001B[38;5;132;01m}\u001B[39;00m\u001B[38;5;124m.\u001B[39m\u001B[38;5;124m\"\u001B[39m\n\u001B[1;32m    262\u001B[0m     )\n",
      "\u001B[0;31mValueError\u001B[0m: Google Trends data failed for 56 from 2023-08-23 to 2023-10-11."
     ]
    }
   ],
   "execution_count": 4
  },
  {
   "metadata": {},
   "cell_type": "markdown",
   "source": "Google Trends did not work for Wyoming --- might be a rate limit issue. Going to move on for now with the other locations.",
   "id": "804778d5f7e42fa"
  }
 ],
 "metadata": {
  "kernelspec": {
   "display_name": "Python 3",
   "language": "python",
   "name": "python3"
  },
  "language_info": {
   "codemirror_mode": {
    "name": "ipython",
    "version": 2
   },
   "file_extension": ".py",
   "mimetype": "text/x-python",
   "name": "python",
   "nbconvert_exporter": "python",
   "pygments_lexer": "ipython2",
   "version": "2.7.6"
  }
 },
 "nbformat": 4,
 "nbformat_minor": 5
}
