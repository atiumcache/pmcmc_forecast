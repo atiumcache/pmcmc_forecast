{
 "cells": [
  {
   "metadata": {
    "ExecuteTime": {
     "end_time": "2024-10-20T16:36:58.955817Z",
     "start_time": "2024-10-20T16:36:57.072260Z"
    }
   },
   "cell_type": "code",
   "source": "import src.pmcmc.main as pmcmc_main",
   "id": "fbe178c3fd688b22",
   "outputs": [],
   "execution_count": 1
  },
  {
   "metadata": {
    "ExecuteTime": {
     "end_time": "2024-10-20T17:00:29.404683Z",
     "start_time": "2024-10-20T16:37:01.418070Z"
    }
   },
   "cell_type": "code",
   "source": "pmcmc_main.main('06', '2024-04-27')",
   "id": "a934d547d845e1a4",
   "outputs": [
    {
     "name": "stderr",
     "output_type": "stream",
     "text": [
      "PMCMC Progress: 0it [00:00, ?it/s]                                        1.51s/it]\n"
     ]
    },
    {
     "data": {
      "text/plain": [
       "Array([[0.001     , 0.0160432 , 0.01137184, ..., 0.10509229, 0.10826205,\n",
       "        0.10643896],\n",
       "       [0.03911028, 0.02117727, 0.01048695, ..., 0.11249776, 0.10198469,\n",
       "        0.10087529],\n",
       "       [0.03890042, 0.00979877, 0.01719936, ..., 0.13215451, 0.13641371,\n",
       "        0.09556162],\n",
       "       ...,\n",
       "       [0.0077249 , 0.03675001, 0.01247766, ..., 0.1325028 , 0.08701457,\n",
       "        0.11388317],\n",
       "       [0.01654181, 0.02720235, 0.02271833, ..., 0.128433  , 0.09967344,\n",
       "        0.09053642],\n",
       "       [0.0024256 , 0.03214093, 0.02477897, ..., 0.10575061, 0.13215952,\n",
       "        0.09792652]], dtype=float32)"
      ]
     },
     "execution_count": 2,
     "metadata": {},
     "output_type": "execute_result"
    }
   ],
   "execution_count": 2
  },
  {
   "metadata": {
    "ExecuteTime": {
     "end_time": "2024-10-20T17:23:32.929642Z",
     "start_time": "2024-10-20T17:00:29.406664Z"
    }
   },
   "cell_type": "code",
   "source": "pmcmc_main.main('04', '2024-04-27')",
   "id": "a08aaf8b9c3b2024",
   "outputs": [
    {
     "name": "stderr",
     "output_type": "stream",
     "text": [
      "PMCMC Progress: 0it [00:00, ?it/s]                                        1.49s/it]\n"
     ]
    },
    {
     "data": {
      "text/plain": [
       "Array([[0.001     , 0.01413135, 0.00945999, ..., 0.11513677, 0.11830653,\n",
       "        0.11648345],\n",
       "       [0.03911028, 0.01926542, 0.01370917, ..., 0.11888187, 0.11202918,\n",
       "        0.12203167],\n",
       "       [0.03890042, 0.00788692, 0.00390901, ..., 0.12524697, 0.12314107,\n",
       "        0.12669365],\n",
       "       ...,\n",
       "       [0.0077249 , 0.03675001, 0.01577767, ..., 0.08991994, 0.08591162,\n",
       "        0.10657184],\n",
       "       [0.01654181, 0.02720235, 0.03227675, ..., 0.09493215, 0.09701283,\n",
       "        0.08301048],\n",
       "       [0.0024256 , 0.03214093, 0.03067963, ..., 0.10973269, 0.10938941,\n",
       "        0.10764249]], dtype=float32)"
      ]
     },
     "execution_count": 3,
     "metadata": {},
     "output_type": "execute_result"
    }
   ],
   "execution_count": 3
  },
  {
   "metadata": {
    "ExecuteTime": {
     "end_time": "2024-10-20T21:21:01.768779Z",
     "start_time": "2024-10-20T21:21:01.733905Z"
    }
   },
   "cell_type": "code",
   "source": [
    "import os\n",
    "import numpy as np \n",
    "import pandas as pd\n",
    "from src.utils import paths\n",
    "\n",
    "locations = ['04', '06']\n",
    "target_dates = pd.read_csv('../datasets/target_dates.csv')"
   ],
   "id": "71bc2fe50a7053eb",
   "outputs": [],
   "execution_count": 4
  },
  {
   "metadata": {
    "ExecuteTime": {
     "end_time": "2024-10-20T21:21:34.073120Z",
     "start_time": "2024-10-20T21:21:34.066446Z"
    }
   },
   "cell_type": "code",
   "source": "dates = target_dates['date'].values",
   "id": "7cc186bb1e309fcd",
   "outputs": [],
   "execution_count": 7
  },
  {
   "metadata": {
    "ExecuteTime": {
     "end_time": "2024-10-20T21:22:12.609119Z",
     "start_time": "2024-10-20T21:22:11.960244Z"
    }
   },
   "cell_type": "code",
   "source": [
    "for loc in locations:\n",
    "    print(\"Working location \", loc)\n",
    "    base_dir = os.path.join(paths.OUTPUT_DIR, 'pmcmc_runs')\n",
    "    loc_dir = os.path.join(base_dir, loc)\n",
    "    beta_file_path = os.path.join(loc_dir, 'mle_betas_20241020.csv')\n",
    "    df = pd.read_csv(beta_file_path)\n",
    " \n",
    "    # Average over the particles\n",
    "    row_means = df.mean(axis=0)\n",
    "    # Transpose the DataFrame\n",
    "    transposed_df = row_means.to_frame() \n",
    "    num_rows = len(transposed_df)\n",
    "    end_date = pd.to_datetime(\"2024-04-27\")\n",
    "    date_range = pd.date_range(end=end_date, periods=num_rows)\n",
    "    transposed_df[\"date\"] = date_range\n",
    "    transposed_df.rename({0: \"beta\"}, axis=\"columns\", inplace=True)\n",
    "    \n",
    "    df = transposed_df\n",
    "    for target_date in target_dates[\"date\"]:\n",
    "        start_date = pd.to_datetime(target_date) - pd.Timedelta(days=50)\n",
    "        filtered_df = df[(df[\"date\"] > start_date) & (df[\"date\"] <= target_date)]\n",
    "        filtered_df.insert(0, \"time_0\", range(len(filtered_df)))\n",
    "        filtered_df = filtered_df.drop(columns=[\"date\"])\n",
    "        file_path = os.path.join(paths.PF_OUTPUT_DIR, target_date, f\"{loc}.csv\")\n",
    "        os.makedirs(os.path.dirname(file_path), exist_ok=True)\n",
    "        filtered_df.to_csv(file_path, index=False)"
   ],
   "id": "268f119d04aee219",
   "outputs": [
    {
     "name": "stdout",
     "output_type": "stream",
     "text": [
      "Working location  04\n",
      "Working location  06\n"
     ]
    }
   ],
   "execution_count": 8
  },
  {
   "metadata": {},
   "cell_type": "code",
   "outputs": [],
   "execution_count": null,
   "source": "",
   "id": "d43d4edfe4ecbea9"
  }
 ],
 "metadata": {
  "kernelspec": {
   "display_name": "Python 3",
   "language": "python",
   "name": "python3"
  },
  "language_info": {
   "codemirror_mode": {
    "name": "ipython",
    "version": 2
   },
   "file_extension": ".py",
   "mimetype": "text/x-python",
   "name": "python",
   "nbconvert_exporter": "python",
   "pygments_lexer": "ipython2",
   "version": "2.7.6"
  }
 },
 "nbformat": 4,
 "nbformat_minor": 5
}
