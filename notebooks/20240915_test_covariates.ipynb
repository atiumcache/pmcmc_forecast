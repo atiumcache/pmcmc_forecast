{
 "cells": [
  {
   "cell_type": "code",
   "id": "initial_id",
   "metadata": {
    "collapsed": true,
    "ExecuteTime": {
     "end_time": "2024-09-15T23:12:52.163313Z",
     "start_time": "2024-09-15T23:12:51.683876Z"
    }
   },
   "source": [
    "from src.trend_forecast.covariate_getters import (\n",
    "    get_lat_long,\n",
    "    get_mean_temp,\n",
    "    get_max_rel_humidity,\n",
    ")"
   ],
   "outputs": [],
   "execution_count": 1
  },
  {
   "metadata": {
    "ExecuteTime": {
     "end_time": "2024-09-15T23:12:52.175439Z",
     "start_time": "2024-09-15T23:12:52.165430Z"
    }
   },
   "cell_type": "code",
   "source": [
    "coordinates = get_lat_long(\"04\")"
   ],
   "id": "2d8c343c1513fd41",
   "outputs": [],
   "execution_count": 2
  },
  {
   "metadata": {
    "ExecuteTime": {
     "end_time": "2024-09-15T23:12:52.181289Z",
     "start_time": "2024-09-15T23:12:52.177286Z"
    }
   },
   "cell_type": "code",
   "source": [
    "print(coordinates)\n",
    "print(coordinates[0])"
   ],
   "id": "59ca4437ac2b0ec",
   "outputs": [
    {
     "name": "stdout",
     "output_type": "stream",
     "text": [
      "(np.float64(33.4484), np.float64(-112.074))\n",
      "33.4484\n"
     ]
    }
   ],
   "execution_count": 3
  },
  {
   "metadata": {
    "ExecuteTime": {
     "end_time": "2024-09-15T23:12:53.095940Z",
     "start_time": "2024-09-15T23:12:52.184213Z"
    }
   },
   "cell_type": "code",
   "source": "temps_series = get_mean_temp(\"04\", \"2024-05-01\", 80)",
   "id": "6d0f41d118294479",
   "outputs": [],
   "execution_count": 4
  },
  {
   "metadata": {
    "ExecuteTime": {
     "end_time": "2024-09-15T23:12:53.115419Z",
     "start_time": "2024-09-15T23:12:53.098220Z"
    }
   },
   "cell_type": "code",
   "source": "temps_series",
   "id": "4f4fe68e053414e1",
   "outputs": [
    {
     "data": {
      "text/plain": [
       "2024-02-12     8.9\n",
       "2024-02-13    10.7\n",
       "2024-02-14    11.7\n",
       "2024-02-15    12.2\n",
       "2024-02-16    12.8\n",
       "              ... \n",
       "2024-04-27    20.9\n",
       "2024-04-28    23.3\n",
       "2024-04-29    25.3\n",
       "2024-04-30    26.9\n",
       "2024-05-01    26.2\n",
       "Name: temperature_2m_mean, Length: 80, dtype: float64"
      ]
     },
     "execution_count": 5,
     "metadata": {},
     "output_type": "execute_result"
    }
   ],
   "execution_count": 5
  },
  {
   "metadata": {
    "ExecuteTime": {
     "end_time": "2024-09-15T23:12:54.029303Z",
     "start_time": "2024-09-15T23:12:53.117440Z"
    }
   },
   "cell_type": "code",
   "source": "humidity_series = get_max_rel_humidity(\"04\", \"2024-05-01\", 80)",
   "id": "c110fdf9d9452b4d",
   "outputs": [],
   "execution_count": 6
  },
  {
   "metadata": {
    "ExecuteTime": {
     "end_time": "2024-09-15T23:12:54.044130Z",
     "start_time": "2024-09-15T23:12:54.032440Z"
    }
   },
   "cell_type": "code",
   "source": "humidity_series",
   "id": "1b0d6d113fbbcded",
   "outputs": [
    {
     "data": {
      "text/plain": [
       "time\n",
       "2024-02-12    88\n",
       "2024-02-13    88\n",
       "2024-02-14    95\n",
       "2024-02-15    92\n",
       "2024-02-16    88\n",
       "              ..\n",
       "2024-04-27    53\n",
       "2024-04-28    43\n",
       "2024-04-29    38\n",
       "2024-04-30    31\n",
       "2024-05-01    36\n",
       "Freq: D, Name: relative_humidity_2m, Length: 80, dtype: int64"
      ]
     },
     "execution_count": 7,
     "metadata": {},
     "output_type": "execute_result"
    }
   ],
   "execution_count": 7
  },
  {
   "metadata": {
    "ExecuteTime": {
     "end_time": "2024-09-17T00:12:26.637330Z",
     "start_time": "2024-09-17T00:12:20.918984Z"
    }
   },
   "cell_type": "code",
   "source": [
    "from src.trend_forecast.covariates import get_covariate_data, CovariateSelection\n",
    "\n",
    "selected_covariates = CovariateSelection(\n",
    "    mean_temp=True,\n",
    "    max_rel_humidity=True,\n",
    "    sun_duration=True,\n",
    "    wind_speed=True,\n",
    "    radiation=True,\n",
    "    google_search=False,\n",
    "    movement=False,\n",
    ")\n",
    "\n",
    "df = get_covariate_data(\n",
    "    covariates=selected_covariates,\n",
    "    loc_code=\"04\",\n",
    "    target_date=\"2024-05-01\",\n",
    "    series_length=5,\n",
    ")\n",
    "df"
   ],
   "id": "862b69350b717301",
   "outputs": [
    {
     "data": {
      "text/plain": [
       "            mean_temp  max_rel_humidity  sun_duration  wind_speed  radiation\n",
       "2024-04-27       20.9                53      45313.70        20.6       20.6\n",
       "2024-04-28       23.3                43      45416.67        11.9       11.9\n",
       "2024-04-29       25.3                38      45518.78        12.7       12.7\n",
       "2024-04-30       26.9                31      45619.94        25.9       25.9\n",
       "2024-05-01       26.2                36      45720.07        20.8       20.8"
      ],
      "text/html": [
       "<div>\n",
       "<style scoped>\n",
       "    .dataframe tbody tr th:only-of-type {\n",
       "        vertical-align: middle;\n",
       "    }\n",
       "\n",
       "    .dataframe tbody tr th {\n",
       "        vertical-align: top;\n",
       "    }\n",
       "\n",
       "    .dataframe thead th {\n",
       "        text-align: right;\n",
       "    }\n",
       "</style>\n",
       "<table border=\"1\" class=\"dataframe\">\n",
       "  <thead>\n",
       "    <tr style=\"text-align: right;\">\n",
       "      <th></th>\n",
       "      <th>mean_temp</th>\n",
       "      <th>max_rel_humidity</th>\n",
       "      <th>sun_duration</th>\n",
       "      <th>wind_speed</th>\n",
       "      <th>radiation</th>\n",
       "    </tr>\n",
       "  </thead>\n",
       "  <tbody>\n",
       "    <tr>\n",
       "      <th>2024-04-27</th>\n",
       "      <td>20.9</td>\n",
       "      <td>53</td>\n",
       "      <td>45313.70</td>\n",
       "      <td>20.6</td>\n",
       "      <td>20.6</td>\n",
       "    </tr>\n",
       "    <tr>\n",
       "      <th>2024-04-28</th>\n",
       "      <td>23.3</td>\n",
       "      <td>43</td>\n",
       "      <td>45416.67</td>\n",
       "      <td>11.9</td>\n",
       "      <td>11.9</td>\n",
       "    </tr>\n",
       "    <tr>\n",
       "      <th>2024-04-29</th>\n",
       "      <td>25.3</td>\n",
       "      <td>38</td>\n",
       "      <td>45518.78</td>\n",
       "      <td>12.7</td>\n",
       "      <td>12.7</td>\n",
       "    </tr>\n",
       "    <tr>\n",
       "      <th>2024-04-30</th>\n",
       "      <td>26.9</td>\n",
       "      <td>31</td>\n",
       "      <td>45619.94</td>\n",
       "      <td>25.9</td>\n",
       "      <td>25.9</td>\n",
       "    </tr>\n",
       "    <tr>\n",
       "      <th>2024-05-01</th>\n",
       "      <td>26.2</td>\n",
       "      <td>36</td>\n",
       "      <td>45720.07</td>\n",
       "      <td>20.8</td>\n",
       "      <td>20.8</td>\n",
       "    </tr>\n",
       "  </tbody>\n",
       "</table>\n",
       "</div>"
      ]
     },
     "execution_count": 1,
     "metadata": {},
     "output_type": "execute_result"
    }
   ],
   "execution_count": 1
  },
  {
   "metadata": {
    "ExecuteTime": {
     "end_time": "2024-09-17T00:12:28.591670Z",
     "start_time": "2024-09-17T00:12:28.563285Z"
    }
   },
   "cell_type": "code",
   "source": [
    "from src.trend_forecast.covariates import output_covariates_to_csv\n",
    "\n",
    "output_covariates_to_csv(df, \"04\", \"2024-05-01\")"
   ],
   "id": "7bb59a4ec1a8ade9",
   "outputs": [],
   "execution_count": 2
  },
  {
   "metadata": {
    "ExecuteTime": {
     "end_time": "2024-09-19T19:30:29.735304Z",
     "start_time": "2024-09-19T19:29:04.795482Z"
    }
   },
   "cell_type": "code",
   "source": [
    "from src.trend_forecast.covariates import (\n",
    "    get_covariate_data,\n",
    "    CovariateSelection,\n",
    "    output_covariates_to_csv,\n",
    ")\n",
    "import pandas as pd\n",
    "\n",
    "target_dates = pd.read_csv(\"../datasets/target_dates.csv\")\n",
    "\n",
    "selected_covariates = CovariateSelection(\n",
    "    mean_temp=True,\n",
    "    max_rel_humidity=True,\n",
    "    sun_duration=True,\n",
    "    wind_speed=True,\n",
    "    radiation=True,\n",
    "    google_search=False,\n",
    "    movement=False,\n",
    ")\n",
    "\n",
    "\n",
    "def one_date_covariate(target_date):\n",
    "    print(\"getting date\", target_date)\n",
    "    df = get_covariate_data(\n",
    "        covariates=selected_covariates,\n",
    "        loc_code=\"04\",\n",
    "        target_date=target_date,\n",
    "        series_length=50,\n",
    "    )\n",
    "    output_covariates_to_csv(df, \"04\", target_date)\n",
    "\n",
    "\n",
    "for date in target_dates[\"date\"]:\n",
    "    one_date_covariate(date)"
   ],
   "id": "61ddcf7840eb491c",
   "outputs": [],
   "execution_count": 1
  },
  {
   "metadata": {
    "ExecuteTime": {
     "end_time": "2024-09-19T19:33:52.573978Z",
     "start_time": "2024-09-19T19:33:52.568462Z"
    }
   },
   "cell_type": "code",
   "source": "print(target_dates.to_numpy())",
   "id": "3059fd88aac46aa1",
   "outputs": [
    {
     "name": "stdout",
     "output_type": "stream",
     "text": [
      "[['2023-10-14']\n",
      " ['2023-10-21']\n",
      " ['2023-10-28']\n",
      " ['2023-11-04']\n",
      " ['2023-11-11']\n",
      " ['2023-11-18']\n",
      " ['2023-11-25']\n",
      " ['2023-12-02']\n",
      " ['2023-12-09']\n",
      " ['2023-12-16']\n",
      " ['2023-12-23']\n",
      " ['2023-12-30']\n",
      " ['2024-01-06']\n",
      " ['2024-01-13']\n",
      " ['2024-01-20']\n",
      " ['2024-01-27']\n",
      " ['2024-02-03']\n",
      " ['2024-02-10']\n",
      " ['2024-02-17']\n",
      " ['2024-02-24']\n",
      " ['2024-03-02']\n",
      " ['2024-03-09']\n",
      " ['2024-03-16']\n",
      " ['2024-03-23']\n",
      " ['2024-03-30']\n",
      " ['2024-04-06']\n",
      " ['2024-04-13']]\n"
     ]
    }
   ],
   "execution_count": 5
  },
  {
   "metadata": {
    "ExecuteTime": {
     "end_time": "2024-09-20T17:20:33.541572Z",
     "start_time": "2024-09-20T17:20:33.195263Z"
    }
   },
   "cell_type": "code",
   "source": [
    "import glob\n",
    "\n",
    "for file in glob.glob(\"../output/covariates/04/*.csv\"):\n",
    "    df = pd.read_csv(file)\n",
    "    df.insert(0, \"time_0\", range(len(df)))\n",
    "    df.to_csv(file, index=False)"
   ],
   "id": "84c137a20fa415e3",
   "outputs": [],
   "execution_count": 6
  },
  {
   "metadata": {
    "ExecuteTime": {
     "end_time": "2024-09-21T15:04:05.647667Z",
     "start_time": "2024-09-21T15:03:48.029613Z"
    }
   },
   "cell_type": "code",
   "source": [
    "import os\n",
    "from src.trend_forecast.covariate_getters import get_radiation\n",
    "import glob\n",
    "import pandas as pd\n",
    "\n",
    "for file in glob.glob(\"../output/covariates/04/*.csv\"):\n",
    "    df = pd.read_csv(file)\n",
    "    filename = os.path.basename(file)\n",
    "    date = filename.replace(\".csv\", \"\")\n",
    "    print(date)\n",
    "    df[\"swave_radiation\"] = get_radiation(\"04\", date, 50).to_numpy()\n",
    "    df.to_csv(file, index=False)"
   ],
   "id": "fb977f42cfb799e5",
   "outputs": [
    {
     "name": "stdout",
     "output_type": "stream",
     "text": [
      "2023-10-14\n",
      "2023-10-21\n",
      "2023-10-28\n",
      "2023-11-04\n",
      "2023-11-11\n",
      "2023-11-18\n",
      "2023-11-25\n",
      "2023-12-02\n",
      "2023-12-09\n",
      "2023-12-16\n",
      "2023-12-23\n",
      "2023-12-30\n",
      "2024-01-06\n",
      "2024-01-13\n",
      "2024-01-20\n",
      "2024-01-27\n",
      "2024-02-03\n",
      "2024-02-10\n",
      "2024-02-17\n",
      "2024-02-24\n",
      "2024-03-02\n",
      "2024-03-09\n",
      "2024-03-16\n",
      "2024-03-23\n",
      "2024-03-30\n",
      "2024-04-06\n",
      "2024-04-13\n",
      "2024-05-01\n"
     ]
    },
    {
     "ename": "ValueError",
     "evalue": "Length of values (50) does not match length of index (5)",
     "output_type": "error",
     "traceback": [
      "\u001B[0;31m---------------------------------------------------------------------------\u001B[0m",
      "\u001B[0;31mValueError\u001B[0m                                Traceback (most recent call last)",
      "Cell \u001B[0;32mIn[7], line 12\u001B[0m\n\u001B[1;32m     10\u001B[0m date \u001B[38;5;241m=\u001B[39m filename\u001B[38;5;241m.\u001B[39mreplace(\u001B[38;5;124m'\u001B[39m\u001B[38;5;124m.csv\u001B[39m\u001B[38;5;124m'\u001B[39m, \u001B[38;5;124m'\u001B[39m\u001B[38;5;124m'\u001B[39m)\n\u001B[1;32m     11\u001B[0m \u001B[38;5;28mprint\u001B[39m(date)\n\u001B[0;32m---> 12\u001B[0m \u001B[43mdf\u001B[49m\u001B[43m[\u001B[49m\u001B[38;5;124;43m'\u001B[39;49m\u001B[38;5;124;43mswave_radiation\u001B[39;49m\u001B[38;5;124;43m'\u001B[39;49m\u001B[43m]\u001B[49m \u001B[38;5;241m=\u001B[39m get_radiation(\u001B[38;5;124m'\u001B[39m\u001B[38;5;124m04\u001B[39m\u001B[38;5;124m'\u001B[39m, date, \u001B[38;5;241m50\u001B[39m)\u001B[38;5;241m.\u001B[39mto_numpy()\n\u001B[1;32m     13\u001B[0m df\u001B[38;5;241m.\u001B[39mto_csv(file, index\u001B[38;5;241m=\u001B[39m\u001B[38;5;28;01mFalse\u001B[39;00m)\n",
      "File \u001B[0;32m~/Documents/code/PF_forecast/.venv/lib64/python3.12/site-packages/pandas/core/frame.py:4311\u001B[0m, in \u001B[0;36mDataFrame.__setitem__\u001B[0;34m(self, key, value)\u001B[0m\n\u001B[1;32m   4308\u001B[0m     \u001B[38;5;28mself\u001B[39m\u001B[38;5;241m.\u001B[39m_setitem_array([key], value)\n\u001B[1;32m   4309\u001B[0m \u001B[38;5;28;01melse\u001B[39;00m:\n\u001B[1;32m   4310\u001B[0m     \u001B[38;5;66;03m# set column\u001B[39;00m\n\u001B[0;32m-> 4311\u001B[0m     \u001B[38;5;28;43mself\u001B[39;49m\u001B[38;5;241;43m.\u001B[39;49m\u001B[43m_set_item\u001B[49m\u001B[43m(\u001B[49m\u001B[43mkey\u001B[49m\u001B[43m,\u001B[49m\u001B[43m \u001B[49m\u001B[43mvalue\u001B[49m\u001B[43m)\u001B[49m\n",
      "File \u001B[0;32m~/Documents/code/PF_forecast/.venv/lib64/python3.12/site-packages/pandas/core/frame.py:4524\u001B[0m, in \u001B[0;36mDataFrame._set_item\u001B[0;34m(self, key, value)\u001B[0m\n\u001B[1;32m   4514\u001B[0m \u001B[38;5;28;01mdef\u001B[39;00m \u001B[38;5;21m_set_item\u001B[39m(\u001B[38;5;28mself\u001B[39m, key, value) \u001B[38;5;241m-\u001B[39m\u001B[38;5;241m>\u001B[39m \u001B[38;5;28;01mNone\u001B[39;00m:\n\u001B[1;32m   4515\u001B[0m \u001B[38;5;250m    \u001B[39m\u001B[38;5;124;03m\"\"\"\u001B[39;00m\n\u001B[1;32m   4516\u001B[0m \u001B[38;5;124;03m    Add series to DataFrame in specified column.\u001B[39;00m\n\u001B[1;32m   4517\u001B[0m \n\u001B[0;32m   (...)\u001B[0m\n\u001B[1;32m   4522\u001B[0m \u001B[38;5;124;03m    ensure homogeneity.\u001B[39;00m\n\u001B[1;32m   4523\u001B[0m \u001B[38;5;124;03m    \"\"\"\u001B[39;00m\n\u001B[0;32m-> 4524\u001B[0m     value, refs \u001B[38;5;241m=\u001B[39m \u001B[38;5;28;43mself\u001B[39;49m\u001B[38;5;241;43m.\u001B[39;49m\u001B[43m_sanitize_column\u001B[49m\u001B[43m(\u001B[49m\u001B[43mvalue\u001B[49m\u001B[43m)\u001B[49m\n\u001B[1;32m   4526\u001B[0m     \u001B[38;5;28;01mif\u001B[39;00m (\n\u001B[1;32m   4527\u001B[0m         key \u001B[38;5;129;01min\u001B[39;00m \u001B[38;5;28mself\u001B[39m\u001B[38;5;241m.\u001B[39mcolumns\n\u001B[1;32m   4528\u001B[0m         \u001B[38;5;129;01mand\u001B[39;00m value\u001B[38;5;241m.\u001B[39mndim \u001B[38;5;241m==\u001B[39m \u001B[38;5;241m1\u001B[39m\n\u001B[1;32m   4529\u001B[0m         \u001B[38;5;129;01mand\u001B[39;00m \u001B[38;5;129;01mnot\u001B[39;00m \u001B[38;5;28misinstance\u001B[39m(value\u001B[38;5;241m.\u001B[39mdtype, ExtensionDtype)\n\u001B[1;32m   4530\u001B[0m     ):\n\u001B[1;32m   4531\u001B[0m         \u001B[38;5;66;03m# broadcast across multiple columns if necessary\u001B[39;00m\n\u001B[1;32m   4532\u001B[0m         \u001B[38;5;28;01mif\u001B[39;00m \u001B[38;5;129;01mnot\u001B[39;00m \u001B[38;5;28mself\u001B[39m\u001B[38;5;241m.\u001B[39mcolumns\u001B[38;5;241m.\u001B[39mis_unique \u001B[38;5;129;01mor\u001B[39;00m \u001B[38;5;28misinstance\u001B[39m(\u001B[38;5;28mself\u001B[39m\u001B[38;5;241m.\u001B[39mcolumns, MultiIndex):\n",
      "File \u001B[0;32m~/Documents/code/PF_forecast/.venv/lib64/python3.12/site-packages/pandas/core/frame.py:5266\u001B[0m, in \u001B[0;36mDataFrame._sanitize_column\u001B[0;34m(self, value)\u001B[0m\n\u001B[1;32m   5263\u001B[0m     \u001B[38;5;28;01mreturn\u001B[39;00m _reindex_for_setitem(value, \u001B[38;5;28mself\u001B[39m\u001B[38;5;241m.\u001B[39mindex)\n\u001B[1;32m   5265\u001B[0m \u001B[38;5;28;01mif\u001B[39;00m is_list_like(value):\n\u001B[0;32m-> 5266\u001B[0m     \u001B[43mcom\u001B[49m\u001B[38;5;241;43m.\u001B[39;49m\u001B[43mrequire_length_match\u001B[49m\u001B[43m(\u001B[49m\u001B[43mvalue\u001B[49m\u001B[43m,\u001B[49m\u001B[43m \u001B[49m\u001B[38;5;28;43mself\u001B[39;49m\u001B[38;5;241;43m.\u001B[39;49m\u001B[43mindex\u001B[49m\u001B[43m)\u001B[49m\n\u001B[1;32m   5267\u001B[0m arr \u001B[38;5;241m=\u001B[39m sanitize_array(value, \u001B[38;5;28mself\u001B[39m\u001B[38;5;241m.\u001B[39mindex, copy\u001B[38;5;241m=\u001B[39m\u001B[38;5;28;01mTrue\u001B[39;00m, allow_2d\u001B[38;5;241m=\u001B[39m\u001B[38;5;28;01mTrue\u001B[39;00m)\n\u001B[1;32m   5268\u001B[0m \u001B[38;5;28;01mif\u001B[39;00m (\n\u001B[1;32m   5269\u001B[0m     \u001B[38;5;28misinstance\u001B[39m(value, Index)\n\u001B[1;32m   5270\u001B[0m     \u001B[38;5;129;01mand\u001B[39;00m value\u001B[38;5;241m.\u001B[39mdtype \u001B[38;5;241m==\u001B[39m \u001B[38;5;124m\"\u001B[39m\u001B[38;5;124mobject\u001B[39m\u001B[38;5;124m\"\u001B[39m\n\u001B[0;32m   (...)\u001B[0m\n\u001B[1;32m   5273\u001B[0m     \u001B[38;5;66;03m# TODO: Remove kludge in sanitize_array for string mode when enforcing\u001B[39;00m\n\u001B[1;32m   5274\u001B[0m     \u001B[38;5;66;03m# this deprecation\u001B[39;00m\n",
      "File \u001B[0;32m~/Documents/code/PF_forecast/.venv/lib64/python3.12/site-packages/pandas/core/common.py:573\u001B[0m, in \u001B[0;36mrequire_length_match\u001B[0;34m(data, index)\u001B[0m\n\u001B[1;32m    569\u001B[0m \u001B[38;5;250m\u001B[39m\u001B[38;5;124;03m\"\"\"\u001B[39;00m\n\u001B[1;32m    570\u001B[0m \u001B[38;5;124;03mCheck the length of data matches the length of the index.\u001B[39;00m\n\u001B[1;32m    571\u001B[0m \u001B[38;5;124;03m\"\"\"\u001B[39;00m\n\u001B[1;32m    572\u001B[0m \u001B[38;5;28;01mif\u001B[39;00m \u001B[38;5;28mlen\u001B[39m(data) \u001B[38;5;241m!=\u001B[39m \u001B[38;5;28mlen\u001B[39m(index):\n\u001B[0;32m--> 573\u001B[0m     \u001B[38;5;28;01mraise\u001B[39;00m \u001B[38;5;167;01mValueError\u001B[39;00m(\n\u001B[1;32m    574\u001B[0m         \u001B[38;5;124m\"\u001B[39m\u001B[38;5;124mLength of values \u001B[39m\u001B[38;5;124m\"\u001B[39m\n\u001B[1;32m    575\u001B[0m         \u001B[38;5;124mf\u001B[39m\u001B[38;5;124m\"\u001B[39m\u001B[38;5;124m(\u001B[39m\u001B[38;5;132;01m{\u001B[39;00m\u001B[38;5;28mlen\u001B[39m(data)\u001B[38;5;132;01m}\u001B[39;00m\u001B[38;5;124m) \u001B[39m\u001B[38;5;124m\"\u001B[39m\n\u001B[1;32m    576\u001B[0m         \u001B[38;5;124m\"\u001B[39m\u001B[38;5;124mdoes not match length of index \u001B[39m\u001B[38;5;124m\"\u001B[39m\n\u001B[1;32m    577\u001B[0m         \u001B[38;5;124mf\u001B[39m\u001B[38;5;124m\"\u001B[39m\u001B[38;5;124m(\u001B[39m\u001B[38;5;132;01m{\u001B[39;00m\u001B[38;5;28mlen\u001B[39m(index)\u001B[38;5;132;01m}\u001B[39;00m\u001B[38;5;124m)\u001B[39m\u001B[38;5;124m\"\u001B[39m\n\u001B[1;32m    578\u001B[0m     )\n",
      "\u001B[0;31mValueError\u001B[0m: Length of values (50) does not match length of index (5)"
     ]
    }
   ],
   "execution_count": 7
  },
  {
   "metadata": {},
   "cell_type": "code",
   "outputs": [],
   "execution_count": null,
   "source": "",
   "id": "488ff9afc12e15c6"
  }
 ],
 "metadata": {
  "kernelspec": {
   "display_name": "Python 3",
   "language": "python",
   "name": "python3"
  },
  "language_info": {
   "codemirror_mode": {
    "name": "ipython",
    "version": 2
   },
   "file_extension": ".py",
   "mimetype": "text/x-python",
   "name": "python",
   "nbconvert_exporter": "python",
   "pygments_lexer": "ipython2",
   "version": "2.7.6"
  }
 },
 "nbformat": 4,
 "nbformat_minor": 5
}
