{
 "cells": [
  {
   "cell_type": "code",
   "id": "initial_id",
   "metadata": {
    "collapsed": true,
    "ExecuteTime": {
     "end_time": "2024-10-12T19:35:10.136562Z",
     "start_time": "2024-10-12T19:35:10.136339Z"
    }
   },
   "source": [
    "import src.pmcmc.main as pmcmc_main\n",
    "import pandas as pd\n",
    "import os\n",
    "from src.utils import paths\n",
    "\n",
    "\n",
    "loc_csv = os.path.join(paths.DATASETS_DIR, 'locations.csv')\n",
    "loc_df = pd.read_csv(loc_csv)"
   ],
   "outputs": [],
   "execution_count": null
  },
  {
   "metadata": {
    "ExecuteTime": {
     "end_time": "2024-10-12T19:35:27.930067Z",
     "start_time": "2024-10-12T19:35:27.924405Z"
    }
   },
   "cell_type": "code",
   "source": "loc_codes = loc_df['location']",
   "id": "d3a31223229d96cf",
   "outputs": [],
   "execution_count": 2
  },
  {
   "metadata": {
    "ExecuteTime": {
     "end_time": "2024-10-12T19:35:49.687578Z",
     "start_time": "2024-10-12T19:35:49.680918Z"
    }
   },
   "cell_type": "code",
   "source": "print(loc_codes.values)",
   "id": "5fb615331bb2d385",
   "outputs": [
    {
     "name": "stdout",
     "output_type": "stream",
     "text": [
      "['US' '01' '02' '04' '05' '06' '08' '09' '10' '11' '12' '13' '15' '16'\n",
      " '17' '18' '19' '20' '21' '22' '23' '24' '25' '26' '27' '28' '29' '30'\n",
      " '31' '32' '33' '34' '35' '36' '37' '38' '39' '40' '41' '42' '44' '45'\n",
      " '46' '47' '48' '49' '50' '51' '53' '54' '55' '56' '72']\n"
     ]
    }
   ],
   "execution_count": 6
  },
  {
   "metadata": {
    "ExecuteTime": {
     "end_time": "2024-10-12T19:36:52.831322Z",
     "start_time": "2024-10-12T19:36:52.824193Z"
    }
   },
   "cell_type": "code",
   "source": [
    "for code in loc_codes.values:\n",
    "    print(\"'\", code, \"',\", sep=\"\", end=\"\")"
   ],
   "id": "d460424143c92d6b",
   "outputs": [
    {
     "name": "stdout",
     "output_type": "stream",
     "text": [
      "'US','01','02','04','05','06','08','09','10','11','12','13','15','16','17','18','19','20','21','22','23','24','25','26','27','28','29','30','31','32','33','34','35','36','37','38','39','40','41','42','44','45','46','47','48','49','50','51','53','54','55','56','72',"
     ]
    }
   ],
   "execution_count": 8
  },
  {
   "metadata": {
    "ExecuteTime": {
     "end_time": "2024-10-12T19:38:05.524863Z",
     "start_time": "2024-10-12T19:38:05.517895Z"
    }
   },
   "cell_type": "code",
   "source": "from src.utils.location_codes import location_codes",
   "id": "2210f504eeaa6675",
   "outputs": [],
   "execution_count": 9
  },
  {
   "metadata": {
    "ExecuteTime": {
     "end_time": "2024-10-12T19:38:19.003398Z",
     "start_time": "2024-10-12T19:38:18.996692Z"
    }
   },
   "cell_type": "code",
   "source": "location_codes[0]",
   "id": "a0b2d459d70a3519",
   "outputs": [
    {
     "data": {
      "text/plain": [
       "'01'"
      ]
     },
     "execution_count": 11,
     "metadata": {},
     "output_type": "execute_result"
    }
   ],
   "execution_count": 11
  },
  {
   "metadata": {
    "ExecuteTime": {
     "end_time": "2024-10-12T20:34:18.111651Z",
     "start_time": "2024-10-12T20:33:52.982735Z"
    }
   },
   "cell_type": "code",
   "source": "!python -m src.scripts.all_locations_beta_test",
   "id": "d3b693fc98c5b86b",
   "outputs": [
    {
     "name": "stdout",
     "output_type": "stream",
     "text": [
      "Running Particle Filter:   1%|\u001B[32m▏                 \u001B[0m| 3/308 [00:16<26:43,  5.26s/it]\u001B[0m^C\r\n",
      "                                                                                Process ForkPoolWorker-5:\r\n",
      "Process ForkPoolWorker-7:\r\n",
      "Process ForkPoolWorker-2:\r\n",
      "Process ForkPoolWorker-6:\r\n",
      "Traceback (most recent call last):\r\n",
      "  File \"<frozen runpy>\", line 198, in _run_module_as_main\r\n",
      "  File \"<frozen runpy>\", line 88, in _run_code\r\n",
      "  File \"/home/andrew/PycharmProjects/pmcmc_forecast/src/scripts/all_locations_beta_test.py\", line 14, in <module>\r\n",
      "    pool.map(run_pmcmc, location_codes)\r\n",
      "  File \"/usr/lib64/python3.12/multiprocessing/pool.py\", line 367, in map\r\n",
      "    return self._map_async(func, iterable, mapstar, chunksize).get()\r\n",
      "           ^^^^^^^^^^^^^^^^^^^^^^^^^^^^^^^^^^^^^^^^^^^^^^^^^^^^^^^^^\r\n",
      "  File \"/usr/lib64/python3.12/multiprocessing/pool.py\", line 768, in get\r\n",
      "    self.wait(timeout)\r\n",
      "  File \"/usr/lib64/python3.12/multiprocessing/pool.py\", line 765, in wait\r\n",
      "    self._event.wait(timeout)\r\n",
      "  File \"/usr/lib64/python3.12/threading.py\", line 655, in wait\r\n",
      "    signaled = self._cond.wait(timeout)\r\n",
      "               ^^^^^^^^^^^^^^^^^^^^^^^^\r\n",
      "  File \"/usr/lib64/python3.12/threading.py\", line 355, in wait\r\n",
      "    waiter.acquire()\r\n",
      "KeyboardInterrupt\r\n"
     ]
    }
   ],
   "execution_count": 16
  },
  {
   "metadata": {
    "ExecuteTime": {
     "end_time": "2024-10-14T16:46:23.384898Z",
     "start_time": "2024-10-14T16:46:23.365583Z"
    }
   },
   "cell_type": "code",
   "source": [
    "import os\n",
    "import numpy as np \n",
    "import pandas as pd\n",
    "from src.utils import paths\n",
    "\n",
    "locations = ['06', '08', '36', '47']\n",
    "target_dates = pd.read_csv('../datasets/target_dates.csv')"
   ],
   "id": "ee695bd9459e4cc1",
   "outputs": [],
   "execution_count": 1
  },
  {
   "metadata": {
    "ExecuteTime": {
     "end_time": "2024-10-14T16:46:34.335090Z",
     "start_time": "2024-10-14T16:46:34.314877Z"
    }
   },
   "cell_type": "code",
   "source": [
    "dates = target_dates['date'].values\n",
    "dates"
   ],
   "id": "95a5e8451ba6c1d0",
   "outputs": [
    {
     "data": {
      "text/plain": [
       "array(['2023-10-14', '2023-10-21', '2023-10-28', '2023-11-04',\n",
       "       '2023-11-11', '2023-11-18', '2023-11-25', '2023-12-02',\n",
       "       '2023-12-09', '2023-12-16', '2023-12-23', '2023-12-30',\n",
       "       '2024-01-06', '2024-01-13', '2024-01-20', '2024-01-27',\n",
       "       '2024-02-03', '2024-02-10', '2024-02-17', '2024-02-24',\n",
       "       '2024-03-02', '2024-03-09', '2024-03-16', '2024-03-23',\n",
       "       '2024-03-30', '2024-04-06', '2024-04-13', '2024-04-20',\n",
       "       '2024-04-27'], dtype=object)"
      ]
     },
     "execution_count": 3,
     "metadata": {},
     "output_type": "execute_result"
    }
   ],
   "execution_count": 3
  },
  {
   "metadata": {
    "ExecuteTime": {
     "end_time": "2024-10-14T16:51:58.783382Z",
     "start_time": "2024-10-14T16:51:58.039630Z"
    }
   },
   "cell_type": "code",
   "source": [
    "\n",
    "for loc in locations:\n",
    "    print(\"Working location \", loc)\n",
    "    base_dir = os.path.join(paths.OUTPUT_DIR, 'pmcmc_run_20241013')\n",
    "    loc_dir = os.path.join(base_dir, loc)\n",
    "    beta_file_path = os.path.join(loc_dir, 'mle_betas.csv')\n",
    "    df = pd.read_csv(beta_file_path)\n",
    " \n",
    "    # Average over the particles\n",
    "    row_means = df.mean(axis=0)\n",
    "    # Transpose the DataFrame\n",
    "    transposed_df = row_means.to_frame() \n",
    "    num_rows = len(transposed_df)\n",
    "    end_date = pd.to_datetime(\"2024-04-27\")\n",
    "    date_range = pd.date_range(end=end_date, periods=num_rows)\n",
    "    transposed_df[\"date\"] = date_range\n",
    "    transposed_df.rename({0: \"beta\"}, axis=\"columns\", inplace=True)\n",
    "    \n",
    "    df = transposed_df\n",
    "    for target_date in target_dates[\"date\"]:\n",
    "        start_date = pd.to_datetime(target_date) - pd.Timedelta(days=50)\n",
    "        filtered_df = df[(df[\"date\"] > start_date) & (df[\"date\"] <= target_date)]\n",
    "        filtered_df.insert(0, \"time_0\", range(len(filtered_df)))\n",
    "        filtered_df = filtered_df.drop(columns=[\"date\"])\n",
    "        file_path = os.path.join(paths.PF_OUTPUT_DIR, target_date, f\"{loc}.csv\")\n",
    "        os.makedirs(os.path.dirname(file_path), exist_ok=True)\n",
    "        filtered_df.to_csv(file_path, index=False)"
   ],
   "id": "48b9d240a826c002",
   "outputs": [
    {
     "name": "stdout",
     "output_type": "stream",
     "text": [
      "Working location  06\n",
      "Working location  08\n",
      "Working location  36\n",
      "Working location  47\n"
     ]
    }
   ],
   "execution_count": 5
  },
  {
   "metadata": {},
   "cell_type": "code",
   "outputs": [],
   "execution_count": null,
   "source": "",
   "id": "c8cd388d7bd317f4"
  }
 ],
 "metadata": {
  "kernelspec": {
   "display_name": "Python 3",
   "language": "python",
   "name": "python3"
  },
  "language_info": {
   "codemirror_mode": {
    "name": "ipython",
    "version": 2
   },
   "file_extension": ".py",
   "mimetype": "text/x-python",
   "name": "python",
   "nbconvert_exporter": "python",
   "pygments_lexer": "ipython2",
   "version": "2.7.6"
  }
 },
 "nbformat": 4,
 "nbformat_minor": 5
}
